{
 "cells": [
  {
   "cell_type": "markdown",
   "metadata": {},
   "source": [
    "# Configuration"
   ]
  },
  {
   "cell_type": "code",
   "execution_count": null,
   "metadata": {},
   "outputs": [],
   "source": [
    "%matplotlib inline\n",
    "\n",
    "import sklearn.cluster as skcl;\n",
    "import pandas as pd;\n",
    "import matplotlib.pyplot as plt\n",
    "import feature_normalization as fn\n",
    "from bisect import bisect\n"
   ]
  },
  {
   "cell_type": "markdown",
   "metadata": {},
   "source": [
    "## Read Data"
   ]
  },
  {
   "cell_type": "code",
   "execution_count": null,
   "metadata": {},
   "outputs": [],
   "source": [
    "features = pd.read_csv( filepath_or_buffer=\"features.txt\" , sep=\"\\t\" )\n",
    "features = features.query( 'longest_stop_s >= 0' )\n",
    "print( features.head( 3 ) );"
   ]
  },
  {
   "cell_type": "markdown",
   "metadata": {},
   "source": [
    "## Plot data"
   ]
  },
  {
   "cell_type": "code",
   "execution_count": null,
   "metadata": {},
   "outputs": [],
   "source": [
    "feature_names = features.columns.values\n",
    "\n",
    "# start at 1 because 0 is agent id\n",
    "for i in range(1, len( feature_names ) ):\n",
    "    #print( \"index i=\" , i )\n",
    "    for j in range( i + 1 , len( feature_names ) ):\n",
    "        #print( \"index j=\" , j )\n",
    "        feature1 = feature_names[ i ]\n",
    "        feature2 = feature_names[ j ]\n",
    "        plt.scatter( features[ feature1 ] , features[ feature2 ] )\n",
    "        plt.xlabel( feature1 )\n",
    "        plt.ylabel( feature2 )\n",
    "        plt.show()"
   ]
  },
  {
   "cell_type": "markdown",
   "metadata": {},
   "source": [
    "## Normalize features\n"
   ]
  },
  {
   "cell_type": "code",
   "execution_count": null,
   "metadata": {},
   "outputs": [],
   "source": [
    "norm_features = fn.normalize_features( features )\n",
    "\n",
    "print( norm_features.head() )\n"
   ]
  },
  {
   "cell_type": "markdown",
   "metadata": {},
   "source": [
    "## Train clustering algorithm"
   ]
  },
  {
   "cell_type": "markdown",
   "metadata": {},
   "source": [
    "### K Means"
   ]
  },
  {
   "cell_type": "code",
   "execution_count": null,
   "metadata": {},
   "outputs": [],
   "source": [
    "kmeans = skcl.KMeans(n_clusters=8)\n",
    "\n",
    "kmeans.fit(norm_features)\n",
    "pred = kmeans.predict( norm_features )\n",
    "\n",
    "# start at 1 because 0 is agent id\n",
    "for i in range(1, len( feature_names ) ):\n",
    "    #print( \"index i=\" , i )\n",
    "    for j in range( i + 1 , len( feature_names ) ):\n",
    "        #print( \"index j=\" , j )\n",
    "        feature1 = feature_names[ i ]\n",
    "        feature2 = feature_names[ j ]\n",
    "        plt.scatter( features[ feature1 ] , features[ feature2 ] , c=pred )\n",
    "        plt.xlabel( feature1 )\n",
    "        plt.ylabel( feature2 )\n",
    "        plt.show()"
   ]
  },
  {
   "cell_type": "markdown",
   "metadata": {},
   "source": [
    "## Meaningful clustering\n",
    "\n",
    "Clustering based on meaningful boundaries.\n",
    "\n",
    "First define some charging times. From https://www.clippercreek.com/wp-content/uploads/2016/04/TIME-TO-CHARGE-20170706_FINAL-LOW-RES.jpg, full charging times range from 2 to 70 hours depending on vehicle and charging station."
   ]
  },
  {
   "cell_type": "code",
   "execution_count": null,
   "metadata": {},
   "outputs": [],
   "source": [
    "charge_time_thresholds = [ 2 ** i for i in range(1,10) if (2 ** i <= 24) ]\n",
    "print( charge_time_thresholds )"
   ]
  },
  {
   "cell_type": "markdown",
   "metadata": {},
   "source": [
    "Then define range.\n",
    "- Range of nissan leaf (most common EV): 135km https://en.wikipedia.org/wiki/Nissan_Leaf\n",
    "- Tesla 85D: 270 miles = 434km https://www.tesla.com/fr_CH/blog/driving-range-model-s-family?redirect=no\n",
    "\n",
    "Range depends on lots of factors, so we just use a few thresholds starting at 50km up to 400km"
   ]
  },
  {
   "cell_type": "code",
   "execution_count": null,
   "metadata": {},
   "outputs": [],
   "source": [
    "range_thresholds = [ 50 * 1000 * 2 ** i for i in range(4) ]\n",
    "print( range_thresholds )"
   ]
  },
  {
   "cell_type": "markdown",
   "metadata": {},
   "source": [
    "Now, just generate one label per combination and compute labels"
   ]
  },
  {
   "cell_type": "code",
   "execution_count": null,
   "metadata": {},
   "outputs": [],
   "source": [
    "pred_meaning = (features.assign( range_class = list( map( lambda x: bisect( range_thresholds , x ) , features.longest_trip_m ) ),\n",
    "                  charge_time_class = list( map( lambda x: bisect( charge_time_thresholds , x ) , features.longest_stop_s )))\n",
    "        .assign( label = lambda x: x.range_class+ 100 * x.charge_time_class))"
   ]
  },
  {
   "cell_type": "code",
   "execution_count": null,
   "metadata": {},
   "outputs": [],
   "source": [
    "# start at 1 because 0 is agent id\n",
    "for i in range(1, len( feature_names ) ):\n",
    "    #print( \"index i=\" , i )\n",
    "    for j in range( i + 1 , len( feature_names ) ):\n",
    "        #print( \"index j=\" , j )\n",
    "        feature1 = feature_names[ i ]\n",
    "        feature2 = feature_names[ j ]\n",
    "        plt.scatter( features[ feature1 ] , features[ feature2 ] , c=pred_meaning.label  )\n",
    "        plt.xlabel( feature1 )\n",
    "        plt.ylabel( feature2 )\n",
    "        plt.show()"
   ]
  },
  {
   "cell_type": "code",
   "execution_count": null,
   "metadata": {},
   "outputs": [],
   "source": []
  }
 ],
 "metadata": {
  "kernelspec": {
   "display_name": "Python 2",
   "language": "python",
   "name": "python2"
  },
  "language_info": {
   "codemirror_mode": {
    "name": "ipython",
    "version": 2
   },
   "file_extension": ".py",
   "mimetype": "text/x-python",
   "name": "python",
   "nbconvert_exporter": "python",
   "pygments_lexer": "ipython2",
   "version": "2.7.6"
  }
 },
 "nbformat": 4,
 "nbformat_minor": 0
}
