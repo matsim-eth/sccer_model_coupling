{
 "cells": [
  {
   "cell_type": "markdown",
   "metadata": {},
   "source": [
    "# Configuration"
   ]
  },
  {
   "cell_type": "code",
   "execution_count": 1,
   "metadata": {
    "collapsed": true
   },
   "outputs": [],
   "source": [
    "%matplotlib inline\n",
    "\n",
    "import sklearn.cluster as skcl;\n",
    "import pandas as pd;\n",
    "import matplotlib.pyplot as plt\n",
    "import feature_normalization as fn"
   ]
  },
  {
   "cell_type": "markdown",
   "metadata": {},
   "source": [
    "## Read Data"
   ]
  },
  {
   "cell_type": "code",
   "execution_count": 2,
   "metadata": {},
   "outputs": [
    {
     "name": "stdout",
     "output_type": "stream",
     "text": [
      "      agentId  longest_stop_s  longest_trip_m  total_stop_s   total_trip_m\n0  1000000700         42572.0    85823.402291       71995.0  260486.880229\n2  1000001200         46706.0    29981.333807       82621.0   59067.391061\n3  1000002000         72688.0    64868.908859       80616.0  111247.858032\n"
     ]
    }
   ],
   "source": [
    "features = pd.read_csv( filepath_or_buffer=\"features.txt\" , sep=\"\\t\" )\n",
    "features = features.query( 'longest_stop_s >= 0' )\n",
    "print( features.head( 3 ) );"
   ]
  },
  {
   "cell_type": "markdown",
   "metadata": {},
   "source": [
    "## Plot data"
   ]
  },
  {
   "cell_type": "code",
   "execution_count": 5,
   "metadata": {},
   "outputs": [],
   "source": [
    "feature_names = features.columns.values\n",
    "\n",
    "# start at 1 because 0 is agent id\n",
    "#for i in range(1, len( feature_names ) ):\n",
    "#    #print( \"index i=\" , i )\n",
    "#    for j in range( i + 1 , len( feature_names ) ):\n",
    "#        #print( \"index j=\" , j )\n",
    "#        feature1 = feature_names[ i ]\n",
    "#        feature2 = feature_names[ j ]\n",
    "#        plt.scatter( features[ feature1 ] , features[ feature2 ] )\n",
    "#        plt.xlabel( feature1 )\n",
    "#        plt.ylabel( feature2 )\n",
    "#        plt.show()"
   ]
  },
  {
   "cell_type": "markdown",
   "metadata": {},
   "source": [
    "## Normalize features\n"
   ]
  },
  {
   "cell_type": "code",
   "execution_count": 4,
   "metadata": {},
   "outputs": [
    {
     "name": "stdout",
     "output_type": "stream",
     "text": [
      "      agentId  longest_stop_s  longest_trip_m  total_stop_s  total_trip_m\n0  1000000700       -0.000004        0.000014     -0.000020      0.000021\n2  1000001200       -0.000003        0.000003     -0.000002      0.000002\n3  1000002000        0.000002        0.000010     -0.000006      0.000007\n5  1000002500        0.000004       -0.000002      0.000002     -0.000002\n6  1000004400        0.000005        0.000001      0.000002     -0.000001\n"
     ]
    }
   ],
   "source": [
    "norm_features = fn.normalize_features( features )\n",
    "\n",
    "print( norm_features.head() )\n"
   ]
  },
  {
   "cell_type": "markdown",
   "metadata": {},
   "source": [
    "## Train clustering algorithm"
   ]
  },
  {
   "cell_type": "markdown",
   "metadata": {},
   "source": [
    "### K Means"
   ]
  },
  {
   "cell_type": "code",
   "execution_count": 7,
   "metadata": {},
   "outputs": [],
   "source": [
    "kmeans = skcl.KMeans(n_clusters=8)\n",
    "\n",
    "kmeans.fit(norm_features)\n",
    "pred = kmeans.predict( norm_features )\n",
    "\n",
    "# start at 1 because 0 is agent id\n",
    "#for i in range(1, len( feature_names ) ):\n",
    "#    #print( \"index i=\" , i )\n",
    "#    for j in range( i + 1 , len( feature_names ) ):\n",
    "#        #print( \"index j=\" , j )\n",
    "#        feature1 = feature_names[ i ]\n",
    "#        feature2 = feature_names[ j ]\n",
    "#        plt.scatter( features[ feature1 ] , features[ feature2 ] , c=pred )\n",
    "#        plt.xlabel( feature1 )\n",
    "#        plt.ylabel( feature2 )\n",
    "#        plt.show()"
   ]
  },
  {
   "cell_type": "markdown",
   "metadata": {},
   "source": [
    "## Meaningful clustering\n",
    "\n",
    "Clustering based on meaningful boundaries.\n",
    "\n",
    "First define some charging times. From https://www.clippercreek.com/wp-content/uploads/2016/04/TIME-TO-CHARGE-20170706_FINAL-LOW-RES.jpg, full charging times range from 2 to 70 hours depending on vehicle and charging station."
   ]
  },
  {
   "cell_type": "code",
   "execution_count": null,
   "metadata": {},
   "outputs": [],
   "source": [
    "charge_time_thresholds = [ x for i ]"
   ]
  }
 ],
 "metadata": {
  "kernelspec": {
   "display_name": "Python 2",
   "language": "python",
   "name": "python2"
  },
  "language_info": {
   "codemirror_mode": {
    "name": "ipython",
    "version": 2
   },
   "file_extension": ".py",
   "mimetype": "text/x-python",
   "name": "python",
   "nbconvert_exporter": "python",
   "pygments_lexer": "ipython2",
   "version": "2.7.6"
  }
 },
 "nbformat": 4,
 "nbformat_minor": 0
}
