{
 "cells": [
  {
   "cell_type": "markdown",
   "metadata": {
    "toc": true
   },
   "source": [
    "<h1>Table of Contents<span class=\"tocSkip\"></span></h1>\n",
    "<div class=\"toc\"><ul class=\"toc-item\"><li><span><a href=\"#Meaningful-clustering\" data-toc-modified-id=\"Meaningful-clustering-1\"><span class=\"toc-item-num\">1&nbsp;&nbsp;</span>Meaningful clustering</a></span></li></ul></div>"
   ]
  },
  {
   "cell_type": "code",
   "execution_count": null,
   "metadata": {},
   "outputs": [],
   "source": [
    "#%matplotlib notebook\n",
    "%matplotlib inline\n",
    "\n",
    "import sklearn.cluster as skcl;\n",
    "import pandas as pd;\n",
    "import matplotlib.pyplot as plt\n",
    "import utils.feature_normalization as fn\n",
    "import filemanagement.directories as dirs\n",
    "from bisect import bisect\n",
    "import seaborn as sns\n",
    "import numpy as np\n",
    "import re"
   ]
  },
  {
   "cell_type": "code",
   "execution_count": null,
   "metadata": {},
   "outputs": [],
   "source": [
    "features = pd.read_csv( filepath_or_buffer=dirs.interim_file_path( \"features.txt\" ) , sep=\"\\t\" )\n",
    "features = features.query( 'longest_stop_s >= 0' )\n",
    "features.head( 3 )"
   ]
  },
  {
   "cell_type": "code",
   "execution_count": null,
   "metadata": {},
   "outputs": [],
   "source": [
    "print( features.head(3))"
   ]
  },
  {
   "cell_type": "markdown",
   "metadata": {},
   "source": [
    "## Meaningful clustering\n",
    "\n",
    "Clustering based on meaningful boundaries.\n",
    "\n",
    "First define some charging times. From https://www.clippercreek.com/wp-content/uploads/2016/04/TIME-TO-CHARGE-20170706_FINAL-LOW-RES.jpg, full charging times range from 2 to 70 hours depending on vehicle and charging station."
   ]
  },
  {
   "cell_type": "code",
   "execution_count": null,
   "metadata": {},
   "outputs": [],
   "source": [
    "charge_time_thresholds = np.array( [ 3600 * 2 ** i for i in range(1,10) if (2 ** i <= 24) ] )\n",
    "print( charge_time_thresholds )"
   ]
  },
  {
   "cell_type": "markdown",
   "metadata": {},
   "source": [
    "Then define range.\n",
    "- Range of nissan leaf (most common EV): 135km https://en.wikipedia.org/wiki/Nissan_Leaf\n",
    "- Tesla 85D: 270 miles = 434km https://www.tesla.com/fr_CH/blog/driving-range-model-s-family?redirect=no\n",
    "\n",
    "Range depends on lots of factors, so we just use a few thresholds starting at 50km up to 400km"
   ]
  },
  {
   "cell_type": "code",
   "execution_count": null,
   "metadata": {},
   "outputs": [],
   "source": [
    "range_thresholds = np.array( [ 50 * 1000 * 2 ** i for i in range(4) ] )\n",
    "print( range_thresholds / 1000 )"
   ]
  },
  {
   "cell_type": "markdown",
   "metadata": {},
   "source": [
    "Now, just generate one label per combination and compute labels"
   ]
  },
  {
   "cell_type": "code",
   "execution_count": null,
   "metadata": {},
   "outputs": [],
   "source": [
    "def find_threshold( t , thresholds , unit ):\n",
    "    if t == len( thresholds ):\n",
    "        return ''.join( ( \"> \" , str( thresholds[ t - 1 ] ) , unit ) )\n",
    "    if t == 0:\n",
    "        return ''.join( ( \"[0 , \" , str( thresholds[ t ] ) , unit , \"]\" ) )\n",
    "    return ''.join( ( \"[\" , str( thresholds[ t - 1 ] ) , \" , \" , str( thresholds[ t ] ) , unit , \"]\" ) )\n",
    "\n",
    "def comp_label( range_classes , charge_time_classes ):\n",
    "    m = map( lambda r , t: \"\".join(\n",
    "                ( \"range_\" , find_threshold( r ,  range_thresholds / 1000 , \"km\" ) ,\n",
    "                  \"-time_\" , find_threshold( t , charge_time_thresholds / 3600 , \"h\" ) ) ) ,\n",
    "             range_classes , charge_time_classes ) \n",
    "    return np.array( list( m ) ) \n",
    "\n",
    "pred_meaning = (features.assign( range_class = list( map( lambda x: bisect( range_thresholds , x ) , features.longest_trip_m ) ),\n",
    "                  charge_time_class = list( map( lambda x: bisect( charge_time_thresholds , x ) , features.longest_stop_9_16_s )))\n",
    "        .assign( range_label = lambda x: list( map( lambda t: find_threshold( t , range_thresholds / 1000 , \"km\" ) , x.range_class ) ),\n",
    "                 charge_time_label = lambda x: list( map( lambda t: find_threshold( t , charge_time_thresholds / 3600 , \"h\" ) , x.charge_time_class ) ) )\n",
    "        .assign( label = lambda x: comp_label( x.range_class , x.charge_time_class)))\n"
   ]
  },
  {
   "cell_type": "code",
   "execution_count": null,
   "metadata": {},
   "outputs": [],
   "source": [
    "\n",
    "print(pred_meaning.head())\n"
   ]
  },
  {
   "cell_type": "code",
   "execution_count": null,
   "metadata": {},
   "outputs": [],
   "source": [
    "crosstab_clusters = pd.crosstab( pred_meaning.range_label , pred_meaning.charge_time_label ) \n",
    "crosstab_clusters"
   ]
  },
  {
   "cell_type": "markdown",
   "metadata": {},
   "source": [
    "PSI wants to see when the cars are parked during the day.\n",
    "We should:\n",
    "- visualize the number of cars parked per TOD in a faceted way\n",
    "- export a table containing the number of parked car per time bin per class\n"
   ]
  },
  {
   "cell_type": "code",
   "execution_count": null,
   "metadata": {},
   "outputs": [],
   "source": [
    "parked_and_dist_columns = [ v for v in pred_meaning.columns.values if (v.startswith( \"parked_s\" ) or v.startswith(\"distance_m\"))]\n",
    "\n",
    "def decode_time( type ):\n",
    "    def f( name ):\n",
    "        interval = re.search(\"\\[(.*)\\]\", name ).group(1).split(';')\n",
    "        \n",
    "        low= float(interval[0])\n",
    "        high=float(interval[1])\n",
    "        \n",
    "        if (type == 'middle'): return ( low + high ) / 2.0\n",
    "        if (type == 'low'): return low\n",
    "        if (type == 'high'): return high\n",
    "        \n",
    "        raise NameError( type )\n",
    "\n",
    "    return f\n",
    "\n",
    "parktime_per_group = pred_meaning.groupby( (\"range_label\", \"charge_time_label\") )[parked_and_dist_columns].aggregate( np.average )\n",
    "parktime_per_group['n'] = pred_meaning.groupby( (\"range_label\", \"charge_time_label\") )['range_label'].aggregate( np.size )\n",
    "parktime_per_group = parktime_per_group.reset_index()\n",
    "parktime_per_group = pd.melt( parktime_per_group ,\n",
    "                              id_vars=['range_label', 'charge_time_label', 'n'], value_vars=parked_and_dist_columns,\n",
    "                              var_name=\"variable\", value_name=\"value\" )\n",
    "parktime_per_group['interval_start_s'] = parktime_per_group[\"variable\"].apply( decode_time( 'low' ) )\n",
    "parktime_per_group['interval_end_s'] = parktime_per_group[\"variable\"].apply( decode_time( 'high' ) )\n",
    "parktime_per_group['time_of_day_s'] = parktime_per_group[\"variable\"].apply( decode_time( 'middle' ) )\n",
    "parktime_per_group['variable'] = parktime_per_group['variable'].apply(lambda s: re.search('(.*)_\\[.*\\]', s).group(1))\n",
    "\n",
    "parktime_per_group = parktime_per_group.set_index([c for c in parktime_per_group.columns.values if c != 'value'])\\\n",
    "                            .unstack('variable').reset_index()\n",
    "parktime_per_group.columns = [' '.join(c).strip().split(' ')[-1] for c in parktime_per_group.columns]\n",
    "parktime_per_group['time_of_day_h'] = parktime_per_group['time_of_day_s'] / 3600.0\n",
    "parktime_per_group['parked_time_min'] = parktime_per_group['parked_s'] / 60.0\n",
    "parktime_per_group['distance_km'] = parktime_per_group['distance_m'] / 1000.0\n",
    "#parktime_per_group = parktime_per_group.drop(columns=['interval_s'])\n",
    "parktime_per_group\n"
   ]
  },
  {
   "cell_type": "code",
   "execution_count": null,
   "metadata": {},
   "outputs": [],
   "source": [
    "# To get nice plots: order categories in a meaningful way\n",
    "\n",
    "def numeric_range( r ):\n",
    "    if r.startswith( \">\" ): return float(\"inf\")\n",
    "    \n",
    "    low = re.search(\"\\[(.*),\", r).group(1)\n",
    "    return float(low)\n",
    "    \n",
    "    \n",
    "# looks strange, but set cannot get a pandas series in constructor, while list can...\n",
    "range_ordered = list( set( list( parktime_per_group.range_label ) ) ) \n",
    "range_ordered.sort( key=numeric_range )\n",
    "range_ordered\n"
   ]
  },
  {
   "cell_type": "code",
   "execution_count": null,
   "metadata": {},
   "outputs": [],
   "source": [
    "charge_ordered = list( set( list( parktime_per_group.charge_time_label)))\n",
    "charge_ordered.sort( key= numeric_range )\n",
    "charge_ordered\n"
   ]
  },
  {
   "cell_type": "code",
   "execution_count": null,
   "metadata": {},
   "outputs": [],
   "source": [
    "\n",
    "n_levels = sorted( set( list( parktime_per_group.n ) ) )"
   ]
  },
  {
   "cell_type": "code",
   "execution_count": null,
   "metadata": {},
   "outputs": [],
   "source": [
    "# Cannot get bloody Seaborn to understand that my \"hue\" variable should be continuous...\n",
    "# Dirty hack to get this right\n",
    "def create_palette( ns ):\n",
    "    my_palette = {}\n",
    "    m = np.log( max(ns)+2 )\n",
    "    all_blues = sns.color_palette(\"Blues\", int( m ) + 1 )\n",
    "    \n",
    "    for n in ns:\n",
    "        my_palette[n] = all_blues[ int( np.log(n + 1) )]\n",
    "    \n",
    "    return my_palette\n",
    "\n",
    "def annotate(n, **kwargs ):\n",
    "    return plt.annotate( \"n=\"+str(n.iloc[0]) , xy=(0,1) )\n",
    "\n",
    "grid = sns.FacetGrid( parktime_per_group ,\n",
    "                      row=\"charge_time_label\", col=\"range_label\" , hue=\"n\",\n",
    "                      row_order=charge_ordered, col_order=range_ordered,\n",
    "                      palette=create_palette(parktime_per_group.n),\n",
    "                      margin_titles=True )\n",
    "grid.map( annotate, \"n\" )\n",
    "grid.map( plt.plot, \"time_of_day_h\" , \"parked_time_min\" )\n",
    "#grid.add_legend()\n"
   ]
  },
  {
   "cell_type": "code",
   "execution_count": null,
   "metadata": {},
   "outputs": [],
   "source": [
    "grid_d = sns.FacetGrid( parktime_per_group ,\n",
    "                      row=\"charge_time_label\", col=\"range_label\" , hue=\"n\",\n",
    "                      row_order=charge_ordered, col_order=range_ordered,\n",
    "                      palette=create_palette(parktime_per_group.n),\n",
    "                      margin_titles=True )\n",
    "grid_d.map( annotate, \"n\" )\n",
    "grid_d.map( plt.plot, \"time_of_day_h\" , \"distance_km\" )"
   ]
  },
  {
   "cell_type": "code",
   "execution_count": null,
   "metadata": {},
   "outputs": [],
   "source": [
    "grid.savefig( dirs.final_file_path( '002_parked_time_per_class.pdf' ) )\n",
    "grid_d.savefig( dirs.final_file_path( '002_traveled_distance_per_class.pdf' ) )\n",
    "parktime_per_group.to_csv( dirs.final_file_path( '002_agent_classes_for_STEM.csv' ) )\n"
   ]
  }
 ],
 "metadata": {
  "kernelspec": {
   "display_name": "Python 3",
   "language": "python",
   "name": "python3"
  },
  "language_info": {
   "codemirror_mode": {
    "name": "ipython",
    "version": 3
   },
   "file_extension": ".py",
   "mimetype": "text/x-python",
   "name": "python",
   "nbconvert_exporter": "python",
   "pygments_lexer": "ipython3",
   "version": "3.5.2"
  },
  "toc": {
   "nav_menu": {},
   "number_sections": true,
   "sideBar": true,
   "skip_h1_title": false,
   "title_cell": "Table of Contents",
   "title_sidebar": "Contents",
   "toc_cell": true,
   "toc_position": {},
   "toc_section_display": true,
   "toc_window_display": false
  },
  "varInspector": {
   "cols": {
    "lenName": 16,
    "lenType": 16,
    "lenVar": 40
   },
   "kernels_config": {
    "python": {
     "delete_cmd_postfix": "",
     "delete_cmd_prefix": "del ",
     "library": "var_list.py",
     "varRefreshCmd": "print(var_dic_list())"
    },
    "r": {
     "delete_cmd_postfix": ") ",
     "delete_cmd_prefix": "rm(",
     "library": "var_list.r",
     "varRefreshCmd": "cat(var_dic_list()) "
    }
   },
   "types_to_exclude": [
    "module",
    "function",
    "builtin_function_or_method",
    "instance",
    "_Feature"
   ],
   "window_display": false
  }
 },
 "nbformat": 4,
 "nbformat_minor": 1
}
