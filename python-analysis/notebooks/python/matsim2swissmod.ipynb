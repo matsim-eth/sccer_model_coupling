{
 "cells": [
  {
   "cell_type": "code",
   "execution_count": 1,
   "metadata": {},
   "outputs": [],
   "source": [
    "import pandas as pd\n",
    "import numpy as np\n",
    "import matplotlib.pyplot as plt"
   ]
  },
  {
   "cell_type": "code",
   "execution_count": 2,
   "metadata": {},
   "outputs": [],
   "source": [
    "# load in data\n",
    "df_trips = pd.read_csv(\"/home/ctchervenkov/Documents/data/scenarios/switzerland_2018_10pct/output_trips.csv\", sep=\";\")"
   ]
  },
  {
   "cell_type": "code",
   "execution_count": 3,
   "metadata": {},
   "outputs": [],
   "source": [
    "# filter only car trips\n",
    "df_trips_car = df_trips[df_trips[\"mode\"] == \"car\"]"
   ]
  },
  {
   "cell_type": "code",
   "execution_count": 4,
   "metadata": {},
   "outputs": [
    {
     "name": "stderr",
     "output_type": "stream",
     "text": [
      "/home/ctchervenkov/.local/lib/python3.5/site-packages/pandas/core/indexing.py:362: SettingWithCopyWarning: \n",
      "A value is trying to be set on a copy of a slice from a DataFrame.\n",
      "Try using .loc[row_indexer,col_indexer] = value instead\n",
      "\n",
      "See the caveats in the documentation: http://pandas.pydata.org/pandas-docs/stable/indexing.html#indexing-view-versus-copy\n",
      "  self.obj[key] = _infer_fill_value(value)\n",
      "/home/ctchervenkov/.local/lib/python3.5/site-packages/pandas/core/indexing.py:543: SettingWithCopyWarning: \n",
      "A value is trying to be set on a copy of a slice from a DataFrame.\n",
      "Try using .loc[row_indexer,col_indexer] = value instead\n",
      "\n",
      "See the caveats in the documentation: http://pandas.pydata.org/pandas-docs/stable/indexing.html#indexing-view-versus-copy\n",
      "  self.obj[item] = s\n"
     ]
    }
   ],
   "source": [
    "# get end times\n",
    "df_trips_car.loc[:,\"endTime\"] = df_trips_car.loc[:,\"start_time\"] + df_trips_car.loc[:,\"travel_time\"]"
   ]
  },
  {
   "cell_type": "code",
   "execution_count": 5,
   "metadata": {},
   "outputs": [
    {
     "name": "stderr",
     "output_type": "stream",
     "text": [
      "/home/ctchervenkov/.local/lib/python3.5/site-packages/ipykernel_launcher.py:2: SettingWithCopyWarning: \n",
      "A value is trying to be set on a copy of a slice from a DataFrame.\n",
      "Try using .loc[row_indexer,col_indexer] = value instead\n",
      "\n",
      "See the caveats in the documentation: http://pandas.pydata.org/pandas-docs/stable/indexing.html#indexing-view-versus-copy\n",
      "  \n"
     ]
    }
   ],
   "source": [
    "# generic vehicle type (1)\n",
    "df_trips_car[\"vehicleType\"] = 1"
   ]
  },
  {
   "cell_type": "code",
   "execution_count": 6,
   "metadata": {},
   "outputs": [],
   "source": [
    "# rename columns\n",
    "renames = {\"person_id\":\"vehicleId\",\n",
    "           \"start_time\":\"startTime\",\n",
    "           \"origin_x\":\"startX\",\n",
    "           \"origin_y\":\"startY\",\n",
    "           \"destination_x\":\"endX\",\n",
    "           \"destination_y\":\"endY\",\n",
    "           \"preceedingPurpose\":\"startActivityType\",\n",
    "           \"followingPurpose\":\"endActivityType\",\n",
    "           \"network_distance\":\"travelDistance_km\"}\n",
    "\n",
    "df_trips_car = df_trips_car.rename(index=str, columns=renames)"
   ]
  },
  {
   "cell_type": "code",
   "execution_count": 7,
   "metadata": {},
   "outputs": [],
   "source": [
    "# only keep desired columns\n",
    "df_trips_car = df_trips_car[[\"vehicleId\",\"vehicleType\",\"startTime\",\"endTime\",\"startX\",\"startY\",\"endX\",\"endY\",\"startActivityType\",\"endActivityType\",\"travelDistance_km\"]]"
   ]
  },
  {
   "cell_type": "code",
   "execution_count": 8,
   "metadata": {},
   "outputs": [],
   "source": [
    "# set to desired format\n",
    "df_trips_car.loc[:,\"vehicleId\"] = df_trips_car.loc[:,\"vehicleId\"].astype(int)\n",
    "df_trips_car.loc[:,\"vehicleType\"] = df_trips_car.loc[:,\"vehicleType\"].astype(int)\n",
    "df_trips_car.loc[:,\"startTime\"] = df_trips_car.loc[:,\"startTime\"].astype(float)\n",
    "df_trips_car.loc[:,\"endTime\"] = df_trips_car.loc[:,\"endTime\"].astype(float)\n",
    "df_trips_car.loc[:,\"startX\"] = df_trips_car.loc[:,\"startX\"].astype(float)\n",
    "df_trips_car.loc[:,\"startY\"] = df_trips_car.loc[:,\"startY\"].astype(float)\n",
    "df_trips_car.loc[:,\"endX\"] = df_trips_car.loc[:,\"endX\"].astype(float)\n",
    "df_trips_car.loc[:,\"endY\"] = df_trips_car.loc[:,\"endY\"].astype(float)\n",
    "df_trips_car.loc[:,\"startActivityType\"] = df_trips_car.loc[:,\"startActivityType\"].astype(str)\n",
    "df_trips_car.loc[:,\"endActivityType\"] = df_trips_car.loc[:,\"endActivityType\"].astype(str)\n",
    "df_trips_car.loc[:,\"travelDistance_km\"] = df_trips_car.loc[:,\"travelDistance_km\"].astype(float)"
   ]
  },
  {
   "cell_type": "code",
   "execution_count": 9,
   "metadata": {},
   "outputs": [],
   "source": [
    "# remove trips under 1 m\n",
    "df_trips_car = df_trips_car[df_trips_car[\"travelDistance_km\"] > 0.001]"
   ]
  },
  {
   "cell_type": "code",
   "execution_count": 10,
   "metadata": {},
   "outputs": [],
   "source": [
    "# sort by timestamp\n",
    "df_trips_car = df_trips_car.sort_values(by=[\"startTime\",\"endTime\"])"
   ]
  },
  {
   "cell_type": "code",
   "execution_count": 11,
   "metadata": {},
   "outputs": [
    {
     "data": {
      "image/png": "[encoded data removed]",
      "text/plain": [
       "<Figure size 432x288 with 1 Axes>"
      ]
     },
     "metadata": {
      "needs_background": "light"
     },
     "output_type": "display_data"
    }
   ],
   "source": [
    "# plot distance distribution\n",
    "data = df_trips_car[\"travelDistance_km\"].values\n",
    "plt.hist(data, bins=500)\n",
    "plt.xlim((0,50))\n",
    "plt.xlabel(\"Distance (km)\")\n",
    "plt.ylabel(\"# of car trips\")\n",
    "plt.show()"
   ]
  },
  {
   "cell_type": "code",
   "execution_count": 12,
   "metadata": {},
   "outputs": [],
   "source": [
    "# save to file\n",
    "df_trips_car.to_csv(\"/home/ctchervenkov/Documents/projects/sccer_ja/switzerland_10pct/01-Time_of_trips-origin_destination_vehicle_trip_distance.csv\", sep=\",\", index=False)"
   ]
  },
  {
   "cell_type": "code",
   "execution_count": null,
   "metadata": {},
   "outputs": [],
   "source": []
  },
  {
   "cell_type": "code",
   "execution_count": null,
   "metadata": {},
   "outputs": [],
   "source": []
  }
 ],
 "metadata": {
  "kernelspec": {
   "display_name": "Python 3",
   "language": "python",
   "name": "python3"
  },
  "language_info": {
   "codemirror_mode": {
    "name": "ipython",
    "version": 3
   },
   "file_extension": ".py",
   "mimetype": "text/x-python",
   "name": "python",
   "nbconvert_exporter": "python",
   "pygments_lexer": "ipython3",
   "version": "3.5.2"
  }
 },
 "nbformat": 4,
 "nbformat_minor": 2
}
