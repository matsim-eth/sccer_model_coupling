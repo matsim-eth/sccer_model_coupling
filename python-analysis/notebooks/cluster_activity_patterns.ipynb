{
 "cells": [
  {
   "cell_type": "markdown",
   "metadata": {},
   "source": [
    "# Configuration"
   ]
  },
  {
   "cell_type": "code",
   "execution_count": null,
   "metadata": {},
   "outputs": [],
   "source": [
    "#%matplotlib notebook\n",
    "%matplotlib inline\n",
    "\n",
    "import sklearn.cluster as skcl;\n",
    "import pandas as pd;\n",
    "import matplotlib.pyplot as plt\n",
    "import utils.feature_normalization as fn\n",
    "from bisect import bisect\n",
    "import seaborn as sns\n",
    "import numpy as np\n"
   ]
  },
  {
   "cell_type": "markdown",
   "metadata": {},
   "source": [
    "## Read Data"
   ]
  },
  {
   "cell_type": "code",
   "execution_count": null,
   "metadata": {},
   "outputs": [],
   "source": [
    "features = pd.read_csv( filepath_or_buffer=\"features.txt\" , sep=\"\\t\" )\n",
    "features = features.query( 'longest_stop_s >= 0' )\n",
    "print( features.head( 3 ) );"
   ]
  },
  {
   "cell_type": "markdown",
   "metadata": {},
   "source": [
    "## Plot data"
   ]
  },
  {
   "cell_type": "code",
   "execution_count": null,
   "metadata": {},
   "outputs": [],
   "source": [
    "feature_names = features.columns.values\n",
    "\n",
    "# start at 1 because 0 is agent id\n",
    "#for i in range(1, len( feature_names ) ):\n",
    "#    #print( \"index i=\" , i )\n",
    "#    for j in range( i + 1 , len( feature_names ) ):\n",
    "#        #print( \"index j=\" , j )\n",
    "#        feature1 = feature_names[ i ]\n",
    "#        feature2 = feature_names[ j ]\n",
    "#        plt.scatter( features[ feature1 ] , features[ feature2 ] )\n",
    "#        plt.xlabel( feature1 )\n",
    "#        plt.ylabel( feature2 )\n",
    "#        plt.show()\n",
    "        \n",
    "grid = sns.PairGrid( features , vars=feature_names[1:] )\n",
    "grid.map_diag( plt.hist )\n",
    "grid.map_offdiag( plt.scatter )\n"
   ]
  },
  {
   "cell_type": "markdown",
   "metadata": {},
   "source": [
    "## Normalize features\n"
   ]
  },
  {
   "cell_type": "code",
   "execution_count": null,
   "metadata": {},
   "outputs": [],
   "source": [
    "norm_features = fn.normalize_features( features )\n",
    "\n",
    "print( norm_features.head() )\n"
   ]
  },
  {
   "cell_type": "markdown",
   "metadata": {},
   "source": [
    "## Train clustering algorithm"
   ]
  },
  {
   "cell_type": "markdown",
   "metadata": {},
   "source": [
    "### K Means"
   ]
  },
  {
   "cell_type": "code",
   "execution_count": null,
   "metadata": {},
   "outputs": [],
   "source": [
    "kmeans_per_size = {}\n",
    "\n",
    "for n_clusters in range(2,11):\n",
    "    kmeans = skcl.KMeans(n_clusters=n_clusters)\n",
    "    kmeans.fit(norm_features)\n",
    "    kmeans_per_size[ n_clusters ] = kmeans\n",
    "\n",
    "n_cluster_list = list( kmeans_per_size.keys() )\n",
    "score = list( map( lambda k: k.score( norm_features ), kmeans_per_size.values() ) )\n",
    "plt.plot( n_cluster_list , score )"
   ]
  },
  {
   "cell_type": "code",
   "execution_count": null,
   "metadata": {},
   "outputs": [],
   "source": [
    "# from looking at score, 5 seems to be a good choice (\"elbow\")\n",
    "pred = kmeans_per_size[ 5 ].predict( norm_features )\n",
    "# start at 1 because 0 is agent id\n",
    "#for i in range(1, len( feature_names ) ):\n",
    "#    #print( \"index i=\" , i )\n",
    "#    for j in range( i + 1 , len( feature_names ) ):\n",
    "#        #print( \"index j=\" , j )\n",
    "#        feature1 = feature_names[ i ]\n",
    "#        feature2 = feature_names[ j ]\n",
    "#        plt.scatter( features[ feature1 ] , features[ feature2 ] , c=pred , alpha=.5 )\n",
    "#        plt.xlabel( feature1 )\n",
    "#        plt.ylabel( feature2 )\n",
    "#        plt.show()\n",
    "\n",
    "for i in range(5):\n",
    "    print( \"cluster \" , i )\n",
    "    f = features[ pred == i ]\n",
    "    print( \"number of elements: \" , len( f.index ) )\n",
    "    print( f.describe().transpose() )\n",
    "    grid = sns.PairGrid( f , vars=feature_names[1:] )\n",
    "    grid.map_diag( plt.hist )\n",
    "    grid.map_upper( plt.scatter )\n",
    "    #grid.map_lower( sns.kdeplot , cmap=\"Blues_d\" )\n"
   ]
  },
  {
   "cell_type": "markdown",
   "metadata": {},
   "source": [
    "## Meaningful clustering\n",
    "\n",
    "Clustering based on meaningful boundaries.\n",
    "\n",
    "First define some charging times. From https://www.clippercreek.com/wp-content/uploads/2016/04/TIME-TO-CHARGE-20170706_FINAL-LOW-RES.jpg, full charging times range from 2 to 70 hours depending on vehicle and charging station."
   ]
  },
  {
   "cell_type": "code",
   "execution_count": null,
   "metadata": {},
   "outputs": [],
   "source": [
    "charge_time_thresholds = np.array( [ 3600 * 2 ** i for i in range(1,10) if (2 ** i <= 24) ] )\n",
    "print( charge_time_thresholds )"
   ]
  },
  {
   "cell_type": "markdown",
   "metadata": {},
   "source": [
    "Then define range.\n",
    "- Range of nissan leaf (most common EV): 135km https://en.wikipedia.org/wiki/Nissan_Leaf\n",
    "- Tesla 85D: 270 miles = 434km https://www.tesla.com/fr_CH/blog/driving-range-model-s-family?redirect=no\n",
    "\n",
    "Range depends on lots of factors, so we just use a few thresholds starting at 50km up to 400km"
   ]
  },
  {
   "cell_type": "code",
   "execution_count": null,
   "metadata": {},
   "outputs": [],
   "source": [
    "range_thresholds = np.array( [ 50 * 1000 * 2 ** i for i in range(4) ] )\n",
    "print( range_thresholds / 1000 )"
   ]
  },
  {
   "cell_type": "markdown",
   "metadata": {},
   "source": [
    "Now, just generate one label per combination and compute labels"
   ]
  },
  {
   "cell_type": "code",
   "execution_count": null,
   "metadata": {},
   "outputs": [],
   "source": [
    "def find_threshold( t , thresholds , unit ):\n",
    "    if t == len( thresholds ):\n",
    "        return ''.join( ( \"> \" , str( thresholds[ t - 1 ] ) , unit ) )\n",
    "    if t == 0:\n",
    "        return ''.join( ( \"[0 , \" , str( thresholds[ t ] ) , unit , \"]\" ) )\n",
    "    return ''.join( ( \"[\" , str( thresholds[ t - 1 ] ) , \" , \" , str( thresholds[ t ] ) , unit , \"]\" ) )\n",
    "\n",
    "def comp_label( range_classes , charge_time_classes ):\n",
    "    m = map( lambda r , t: \"\".join(\n",
    "                ( \"range_\" , find_threshold( r ,  range_thresholds / 1000 , \"km\" ) ,\n",
    "                  \"-time_\" , find_threshold( t , charge_time_thresholds / 3600 , \"h\" ) ) ) ,\n",
    "             range_classes , charge_time_classes ) \n",
    "    return np.array( list( m ) ) \n",
    "\n",
    "pred_meaning = (features.assign( range_class = list( map( lambda x: bisect( range_thresholds , x ) , features.longest_trip_m ) ),\n",
    "                  charge_time_class = list( map( lambda x: bisect( charge_time_thresholds , x ) , features.longest_stop_9_16_s )))\n",
    "        .assign( range_label = lambda x: list( map( lambda t: find_threshold( t , range_thresholds / 1000 , \"km\" ) , x.range_class ) ),\n",
    "                 charge_time_label = lambda x: list( map( lambda t: find_threshold( t , charge_time_thresholds / 3600 , \"h\" ) , x.charge_time_class ) ) )\n",
    "        .assign( label = lambda x: comp_label( x.range_class , x.charge_time_class)))\n"
   ]
  },
  {
   "cell_type": "code",
   "execution_count": null,
   "metadata": {},
   "outputs": [],
   "source": [
    "# start at 1 because 0 is agent id\n",
    "#for i in range(1, len( feature_names ) ):\n",
    "#    #print( \"index i=\" , i )\n",
    "#    for j in range( i + 1 , len( feature_names ) ):\n",
    "#        #print( \"index j=\" , j )\n",
    "#        feature1 = feature_names[ i ]\n",
    "#        feature2 = feature_names[ j ]\n",
    "#        plt.scatter( features[ feature1 ] , features[ feature2 ] , c=pred_meaning.label  )\n",
    "#        plt.xlabel( feature1 )\n",
    "#        plt.ylabel( feature2 )\n",
    "#        plt.show()\n",
    "\n",
    "grid = sns.PairGrid( features.assign( label = pred_meaning.label ) , vars=feature_names[1:] , hue='label' )\n",
    "grid.map_diag( plt.hist )\n",
    "grid.map_upper( plt.scatter , alpha=.5 )\n",
    "grid.add_legend()"
   ]
  },
  {
   "cell_type": "code",
   "execution_count": null,
   "metadata": {},
   "outputs": [],
   "source": [
    "crosstab_clusters = pd.crosstab( pred_meaning.range_label , pred_meaning.charge_time_label ) \n",
    "\n",
    "print( crosstab_clusters )\n",
    "#crosstab_clusters.to_excel( 'crosstab_meaningful_clusters.xlsx' )\n",
    "#crosstab_clusters.to_csv( 'crosstab_meaningful_clusters.csv' )"
   ]
  },
  {
   "cell_type": "code",
   "execution_count": null,
   "metadata": {},
   "outputs": [],
   "source": []
  }
 ],
 "metadata": {
  "kernelspec": {
   "display_name": "Python 2",
   "language": "python",
   "name": "python2"
  },
  "language_info": {
   "codemirror_mode": {
    "name": "ipython",
    "version": 2
   },
   "file_extension": ".py",
   "mimetype": "text/x-python",
   "name": "python",
   "nbconvert_exporter": "python",
   "pygments_lexer": "ipython2",
   "version": "2.7.6"
  }
 },
 "nbformat": 4,
 "nbformat_minor": 0
}
