{
 "cells": [
  {
   "cell_type": "code",
   "execution_count": 1,
   "metadata": {},
   "outputs": [],
   "source": [
    "import re\n",
    "from bisect import bisect\n",
    "from optparse import OptionParser\n",
    "\n",
    "import geopandas as gpd\n",
    "import matplotlib.pyplot as plt\n",
    "import numpy as np\n",
    "import pandas as pd\n",
    "import seaborn as sns\n",
    "import shapely.geometry as geo\n",
    "from sklearn.neighbors import KDTree\n",
    "from tqdm import tqdm"
   ]
  },
  {
   "cell_type": "code",
   "execution_count": 2,
   "metadata": {},
   "outputs": [
    {
     "name": "stdout",
     "output_type": "stream",
     "text": [
      "   agentId  age sex  mzHeadId  mzPersonId  statpopHouseholdId  \\\n",
      "0  1000206   31   f    240866      262365     201202300013092   \n",
      "1  1000207   44   m    240866      340535     201202300013092   \n",
      "2  1000795   44   f    390494      312001     201202300043306   \n",
      "\n",
      "   statpopPersonId  longest_stop_s  longest_stop_9_16_s  longest_trip_m  ...  \\\n",
      "0  201240010734941         48262.0              25200.0     3005.726459  ...   \n",
      "1  201240011153461         20692.0              -8893.0    27127.377542  ...   \n",
      "2  201240010775095         46858.0              13021.0    12063.646037  ...   \n",
      "\n",
      "   driven_s_[68400.0;72000.0]  distance_m_[68400.0;72000.0]  \\\n",
      "0                         0.0                      0.000000   \n",
      "1                      3600.0                   1355.148445   \n",
      "2                      3393.0                      0.000000   \n",
      "\n",
      "   driven_s_[72000.0;75600.0]  distance_m_[72000.0;75600.0]  \\\n",
      "0                         0.0                      0.000000   \n",
      "1                      3600.0                      4.407407   \n",
      "2                         0.0                      0.000000   \n",
      "\n",
      "   driven_s_[75600.0;79200.0]  distance_m_[75600.0;79200.0]  \\\n",
      "0                         0.0                      0.000000   \n",
      "1                      3600.0                    161.048309   \n",
      "2                         0.0                      0.000000   \n",
      "\n",
      "   driven_s_[79200.0;82800.0]  distance_m_[79200.0;82800.0]  \\\n",
      "0                         0.0                      0.000000   \n",
      "1                      3600.0                   8353.048024   \n",
      "2                         0.0                      0.000000   \n",
      "\n",
      "   driven_s_[82800.0;86400.0]  distance_m_[82800.0;86400.0]  \n",
      "0                         0.0                      0.000000  \n",
      "1                      3600.0                     13.099161  \n",
      "2                         0.0                      0.000000  \n",
      "\n",
      "[3 rows x 60 columns]\n"
     ]
    }
   ],
   "source": [
    "mz_dir = \"/home/tchervec/Documents/projects/sccer_ja/data/00_raw/microcensus\"\n",
    "statpop_dir = \"/home/tchervec/Documents/projects/sccer_ja/data/00_raw/statpop\"\n",
    "input_file = \"/home/tchervec/Documents/projects/sccer_ja/data/10_interim/2020/plan_features.csv\"\n",
    "\n",
    "\n",
    "# Load in plan features\n",
    "features = pd.read_csv(filepath_or_buffer=input_file, sep=\"\\t\")\n",
    "features = features.query('longest_stop_s >= 0')\n",
    "print(features.head(3))\n",
    "#print(\"Features - number of agents\", len(features[\"mzPersonId\"]), len(features[\"mzPersonId\"].unique()))"
   ]
  },
  {
   "cell_type": "code",
   "execution_count": 3,
   "metadata": {},
   "outputs": [
    {
     "name": "stdout",
     "output_type": "stream",
     "text": [
      "   mzPersonId  year_km\n",
      "0      100004    13000\n",
      "1      100010     5000\n",
      "2      100021     5000\n",
      "   agentId  age sex  mzHeadId  mzPersonId  statpopHouseholdId  \\\n",
      "1  1000207   44   m    240866      340535     201202300013092   \n",
      "2  1000795   44   f    390494      312001     201202300043306   \n",
      "3  1000799   40   m    390494      110059     201202300043306   \n",
      "\n",
      "   statpopPersonId  longest_stop_s  longest_stop_9_16_s  longest_trip_m  ...  \\\n",
      "1  201240011153461         20692.0              -8893.0    27127.377542  ...   \n",
      "2  201240010775095         46858.0              13021.0    12063.646037  ...   \n",
      "3  201240015752790         37934.0              24603.0     4808.971777  ...   \n",
      "\n",
      "   distance_m_[68400.0;72000.0]  driven_s_[72000.0;75600.0]  \\\n",
      "1                   1355.148445                      3600.0   \n",
      "2                      0.000000                         0.0   \n",
      "3                      0.000000                         0.0   \n",
      "\n",
      "   distance_m_[72000.0;75600.0]  driven_s_[75600.0;79200.0]  \\\n",
      "1                      4.407407                      3600.0   \n",
      "2                      0.000000                         0.0   \n",
      "3                      0.000000                         0.0   \n",
      "\n",
      "   distance_m_[75600.0;79200.0]  driven_s_[79200.0;82800.0]  \\\n",
      "1                    161.048309                      3600.0   \n",
      "2                      0.000000                         0.0   \n",
      "3                      0.000000                         0.0   \n",
      "\n",
      "   distance_m_[79200.0;82800.0]  driven_s_[82800.0;86400.0]  \\\n",
      "1                   8353.048024                      3600.0   \n",
      "2                      0.000000                         0.0   \n",
      "3                      0.000000                         0.0   \n",
      "\n",
      "   distance_m_[82800.0;86400.0]  year_km  \n",
      "1                     13.099161  20000.0  \n",
      "2                      0.000000  11000.0  \n",
      "3                      0.000000   9000.0  \n",
      "\n",
      "[3 rows x 61 columns]\n"
     ]
    }
   ],
   "source": [
    "# Add annual car km driven\n",
    "df_mz_vehicles = (pd.read_csv(\"{dir}/fahrzeuge.csv\".format(dir=mz_dir), encoding='latin')\n",
    "                  .rename({\"HHNR\" : \"mzPersonId\",\n",
    "                           \"f30900_31700\" : \"year_km\",\n",
    "                           \"f30700_hpnr1\": \"driver_1\",\n",
    "                           \"f30700_hpnr2\": \"driver_2\",\n",
    "                           \"f30700_hpnr3\": \"driver_3\",\n",
    "                           \"f30700_hpnr4\": \"driver_4\",\n",
    "                           \"f30700_hpnr5\": \"driver_5\",\n",
    "                           }, axis=1)\n",
    "                  )[[\"mzPersonId\", \"year_km\",\n",
    "                     \"driver_1\", \"driver_2\", \"driver_3\", \"driver_4\", \"driver_5\"]]\n",
    "\n",
    "df_mz_vehicles[\"year_km\"] = df_mz_vehicles[\"year_km\"].replace([-97, -98, -99], -1)\n",
    "df_mz_vehicles = df_mz_vehicles.replace([-97, -98, -99], 100)\n",
    "df_mz_vehicles = (df_mz_vehicles\n",
    "                  .sort_values([\"driver_1\", \"driver_2\", \"driver_3\", \"driver_4\", \"driver_5\"], ascending=True)\n",
    "                  .groupby(\"mzPersonId\", as_index=False).first()\n",
    "                  )[[\"mzPersonId\", \"year_km\"]]\n",
    "print(df_mz_vehicles.head(3))\n",
    "\n",
    "features = pd.merge(features, df_mz_vehicles, on='mzPersonId', how='left')\n",
    "features = features.query(\"year_km >= 0\")\n",
    "print(features.head(3))"
   ]
  },
  {
   "cell_type": "code",
   "execution_count": 4,
   "metadata": {},
   "outputs": [
    {
     "name": "stdout",
     "output_type": "stream",
     "text": [
      "   agentId  age sex  mzHeadId  mzPersonId  statpopHouseholdId  \\\n",
      "0  1000207   44   m    240866      340535     201202300013092   \n",
      "1  1000795   44   f    390494      312001     201202300043306   \n",
      "2  1000799   40   m    390494      110059     201202300043306   \n",
      "\n",
      "   statpopPersonId  longest_stop_s  longest_stop_9_16_s  longest_trip_m  ...  \\\n",
      "0  201240011153461         20692.0              -8893.0    27127.377542  ...   \n",
      "1  201240010775095         46858.0              13021.0    12063.646037  ...   \n",
      "2  201240015752790         37934.0              24603.0     4808.971777  ...   \n",
      "\n",
      "   driven_s_[72000.0;75600.0]  distance_m_[72000.0;75600.0]  \\\n",
      "0                      3600.0                      4.407407   \n",
      "1                         0.0                      0.000000   \n",
      "2                         0.0                      0.000000   \n",
      "\n",
      "   driven_s_[75600.0;79200.0]  distance_m_[75600.0;79200.0]  \\\n",
      "0                      3600.0                    161.048309   \n",
      "1                         0.0                      0.000000   \n",
      "2                         0.0                      0.000000   \n",
      "\n",
      "   driven_s_[79200.0;82800.0]  distance_m_[79200.0;82800.0]  \\\n",
      "0                      3600.0                   8353.048024   \n",
      "1                         0.0                      0.000000   \n",
      "2                         0.0                      0.000000   \n",
      "\n",
      "   driven_s_[82800.0;86400.0]  distance_m_[82800.0;86400.0]  year_km  income  \n",
      "0                      3600.0                     13.099161  20000.0       5  \n",
      "1                         0.0                      0.000000  11000.0       5  \n",
      "2                         0.0                      0.000000   9000.0       9  \n",
      "\n",
      "[3 rows x 62 columns]\n"
     ]
    }
   ],
   "source": [
    "# Add income info\n",
    "df_mz_households = (pd.read_csv(\"{dir}/haushalte.csv\".format(dir=mz_dir), encoding='latin')[[\"HHNR\", \"F20601\"]]\n",
    "                    .rename({\"HHNR\" : \"mzPersonId\",\n",
    "                             \"F20601\" : \"income\"}, axis=1))\n",
    "features = pd.merge(features, df_mz_households, on='mzPersonId', how='left')\n",
    "features = features.query(\"income >= 0\")\n",
    "print(features.head(3))"
   ]
  },
  {
   "cell_type": "code",
   "execution_count": 5,
   "metadata": {},
   "outputs": [
    {
     "name": "stdout",
     "output_type": "stream",
     "text": [
      "  person_id  person_trip_id      origin_x      origin_y  destination_x  \\\n",
      "0   4230602               0  2.631443e+06  1.218070e+06   2.630459e+06   \n",
      "2   5964131               0  2.687168e+06  1.206241e+06   2.691716e+06   \n",
      "3   8107463               0  2.499512e+06  1.117491e+06   2.499790e+06   \n",
      "\n",
      "   destination_y  start_time  travel_time  network_distance mode  \\\n",
      "0   1.218239e+06      7705.0        165.0       1199.253358  car   \n",
      "2   1.207463e+06      8694.0        533.0       5638.906158  car   \n",
      "3   1.116151e+06      9473.0        416.0       1941.078133  car   \n",
      "\n",
      "  preceedingPurpose followingPurpose  returning  crowfly_distance  \n",
      "0              home             work      False        998.299643  \n",
      "2              home             work      False       4708.446541  \n",
      "3              home             work      False       1367.935360  \n"
     ]
    }
   ],
   "source": [
    "# Add home location agglo type\n",
    "\n",
    "matsim_trips = '/home/tchervec/Documents/projects/sccer_ja/data/10_interim/2020/trips.csv'\n",
    "\n",
    "df_trips_matsim = pd.read_csv(filepath_or_buffer=matsim_trips, sep=\";\")\n",
    "df_trips_matsim = df_trips_matsim[~df_trips_matsim[\"person_id\"].str.contains(\"freight\")]\n",
    "print(df_trips_matsim.head(3))"
   ]
  },
  {
   "cell_type": "code",
   "execution_count": 6,
   "metadata": {},
   "outputs": [
    {
     "name": "stdout",
     "output_type": "stream",
     "text": [
      "Loading municipality shapefile...\n",
      "   municipality_id                                           geometry\n",
      "0                1  POLYGON ((2678219.000 1235219.000, 2678439.000...\n",
      "1                2  POLYGON ((2678219.000 1235219.000, 2677940.000...\n",
      "2                3  POLYGON ((2675803.000 1241039.000, 2675748.000...\n"
     ]
    }
   ],
   "source": [
    "# load municipality shapefile\n",
    "print(\"Loading municipality shapefile...\")\n",
    "mun_shp = '/home/tchervec/Documents/projects/sccer_ja/data/00_raw/shp/g1g18.shp'\n",
    "df_municipalities = gpd.read_file(mun_shp, encoding = \"latin1\").to_crs('EPSG:2056')\n",
    "df_municipalities = df_municipalities[[\"GMDNR\", \"geometry\"]].rename({\"GMDNR\":\"municipality_id\"}, axis=1)\n",
    "print(df_municipalities.head(3))"
   ]
  },
  {
   "cell_type": "code",
   "execution_count": 7,
   "metadata": {},
   "outputs": [
    {
     "name": "stdout",
     "output_type": "stream",
     "text": [
      "Loading canton and municipality type data...\n",
      "   municipality_id  agglo_type\n",
      "0                1           1\n",
      "1                2           1\n",
      "2                3           1\n"
     ]
    }
   ],
   "source": [
    "# load spatial structure data\n",
    "print(\"Loading canton and municipality type data...\")\n",
    "spatial_structure = '/home/tchervec/Documents/projects/sccer_ja/data/00_raw/spatial_structure_2018.xlsx'\n",
    "df_municipality_types = pd.read_excel(spatial_structure,\n",
    "                                      names=[\"municipality_id\", \"agglo_type\"],\n",
    "                                      usecols=[0, 17],\n",
    "                                      skiprows=6,\n",
    "                                      nrows=2229,\n",
    "                                      )\n",
    "print(df_municipality_types.head(3))"
   ]
  },
  {
   "cell_type": "code",
   "execution_count": 8,
   "metadata": {},
   "outputs": [],
   "source": [
    "# function definitions\n",
    "\n",
    "def to_gpd(df, x=\"x\", y=\"y\", crs=\"EPSG:2056\"):\n",
    "    df[\"geometry\"] = [\n",
    "        geo.Point(*coord) for coord in tqdm(\n",
    "            zip(df[x], df[y]), total=len(df),\n",
    "            desc=\"Converting coordinates\"\n",
    "        )]\n",
    "    df = gpd.GeoDataFrame(df)\n",
    "    df.crs = crs\n",
    "\n",
    "    if not crs == \"EPSG:2056\":\n",
    "        df = df.to_crs(\"EPSG:2056\")\n",
    "\n",
    "    return df\n",
    "\n",
    "\n",
    "def impute(df_points, df_zones, point_id_field, zone_id_field, fix_by_distance=True, chunk_size=10000):\n",
    "    assert(type(df_points) == gpd.GeoDataFrame)\n",
    "    assert(type(df_zones) == gpd.GeoDataFrame)\n",
    "\n",
    "    assert(point_id_field in df_points.columns)\n",
    "    assert(zone_id_field in df_zones.columns)\n",
    "    assert(not zone_id_field in df_points.columns)\n",
    "\n",
    "    df_original = df_points\n",
    "    df_points = df_points[[point_id_field, \"geometry\"]]\n",
    "    df_zones = df_zones[[zone_id_field, \"geometry\"]]\n",
    "\n",
    "    #print(\"Imputing %d zones into %d points by spatial join...\" % (len(df_zones), len(df_points)))\n",
    "\n",
    "    result = []\n",
    "    chunk_count = max(1, int(len(df_points) / chunk_size))\n",
    "    for chunk in tqdm(np.array_split(df_points, chunk_count), total=chunk_count):\n",
    "        result.append(gpd.sjoin(df_zones, chunk, op=\"contains\", how=\"right\"))\n",
    "    df_points = pd.concat(result).reset_index()\n",
    "\n",
    "    if \"left_index\" in df_points: del df_points[\"left_index\"]\n",
    "    if \"right_index\" in df_points: del df_points[\"right_index\"]\n",
    "\n",
    "    invalid_mask = pd.isnull(df_points[zone_id_field])\n",
    "\n",
    "    if fix_by_distance and np.any(invalid_mask):\n",
    "        #print(\"  Fixing %d points by centroid distance join...\" % np.count_nonzero(invalid_mask))\n",
    "        coordinates = np.vstack([df_zones[\"geometry\"].centroid.x, df_zones[\"geometry\"].centroid.y]).T\n",
    "        kd_tree = KDTree(coordinates)\n",
    "\n",
    "        df_missing = df_points[invalid_mask]\n",
    "        coordinates = np.vstack([df_missing[\"geometry\"].centroid.x, df_missing[\"geometry\"].centroid.y]).T\n",
    "        indices = kd_tree.query(coordinates, return_distance=False).flatten()\n",
    "\n",
    "        df_points.loc[invalid_mask, zone_id_field] = df_zones.iloc[indices][zone_id_field].values\n",
    "\n",
    "    return pd.merge(df_original, df_points[[point_id_field, zone_id_field]], on=point_id_field, how=\"left\")\n"
   ]
  },
  {
   "cell_type": "code",
   "execution_count": 9,
   "metadata": {},
   "outputs": [
    {
     "name": "stderr",
     "output_type": "stream",
     "text": [
      "Converting coordinates:  61%|██████    | 4979/8224 [00:00<00:00, 49788.74it/s]"
     ]
    },
    {
     "name": "stdout",
     "output_type": "stream",
     "text": [
      "Selecting MATSim agent's home locations...\n"
     ]
    },
    {
     "name": "stderr",
     "output_type": "stream",
     "text": [
      "Converting coordinates: 100%|██████████| 8224/8224 [00:00<00:00, 32507.37it/s]\n",
      "  0%|          | 0/1 [00:00<?, ?it/s]"
     ]
    },
    {
     "name": "stdout",
     "output_type": "stream",
     "text": [
      "  person_id                         geometry\n",
      "0   4230602  POINT (2631442.781 1218069.711)\n",
      "2   5964131  POINT (2687168.396 1206241.263)\n",
      "3   8107463  POINT (2499512.303 1117490.537)\n",
      "Imputing canton and municipality of home locations...\n"
     ]
    },
    {
     "name": "stderr",
     "output_type": "stream",
     "text": [
      "100%|██████████| 1/1 [00:01<00:00,  1.49s/it]\n"
     ]
    },
    {
     "name": "stdout",
     "output_type": "stream",
     "text": [
      "   agentId  agglo_type\n",
      "0  4230602           0\n",
      "1  4230601           0\n",
      "2  4231370           0\n",
      "Merging home location info onto MATSim trips...\n",
      "   agentId  age sex  mzHeadId  mzPersonId  statpopHouseholdId  \\\n",
      "0  1000207   44   m    240866      340535     201202300013092   \n",
      "1  1000795   44   f    390494      312001     201202300043306   \n",
      "2  1000799   40   m    390494      110059     201202300043306   \n",
      "\n",
      "   statpopPersonId  longest_stop_s  longest_stop_9_16_s  longest_trip_m  ...  \\\n",
      "0  201240011153461         20692.0              -8893.0    27127.377542  ...   \n",
      "1  201240010775095         46858.0              13021.0    12063.646037  ...   \n",
      "2  201240015752790         37934.0              24603.0     4808.971777  ...   \n",
      "\n",
      "   distance_m_[72000.0;75600.0]  driven_s_[75600.0;79200.0]  \\\n",
      "0                      4.407407                      3600.0   \n",
      "1                      0.000000                         0.0   \n",
      "2                      0.000000                         0.0   \n",
      "\n",
      "   distance_m_[75600.0;79200.0]  driven_s_[79200.0;82800.0]  \\\n",
      "0                    161.048309                      3600.0   \n",
      "1                      0.000000                         0.0   \n",
      "2                      0.000000                         0.0   \n",
      "\n",
      "   distance_m_[79200.0;82800.0]  driven_s_[82800.0;86400.0]  \\\n",
      "0                   8353.048024                      3600.0   \n",
      "1                      0.000000                         0.0   \n",
      "2                      0.000000                         0.0   \n",
      "\n",
      "   distance_m_[82800.0;86400.0]  year_km  income  agglo_type  \n",
      "0                     13.099161  20000.0       5           3  \n",
      "1                      0.000000  11000.0       5           3  \n",
      "2                      0.000000   9000.0       9           3  \n",
      "\n",
      "[3 rows x 63 columns]\n",
      "Features - number of agents 3136 2612\n"
     ]
    }
   ],
   "source": [
    "# impute canton and municipality of agent's home location\n",
    "print(\"Selecting MATSim agent's home locations...\")\n",
    "df_home_matsim = df_trips_matsim[[\"person_id\", \"preceedingPurpose\", \"origin_x\", \"origin_y\"]]\n",
    "df_home_matsim = df_home_matsim[df_home_matsim[\"preceedingPurpose\"] == \"home\"]\n",
    "df_home_matsim = (df_home_matsim.drop_duplicates()\n",
    "    .rename({\"origin_x\": \"x\", \"origin_y\": \"y\"}, axis=1)[[\"person_id\", \"x\", \"y\"]])\n",
    "df_home_matsim = to_gpd(df_home_matsim, \"x\", \"y\")\n",
    "df_home_matsim = df_home_matsim.drop([\"x\", \"y\"], axis=1)\n",
    "print(df_home_matsim.head(3))\n",
    "\n",
    "print(\"Imputing canton and municipality of home locations...\")\n",
    "df_home = impute(df_home_matsim, df_municipalities, \"person_id\", \"municipality_id\")\n",
    "df_home = pd.merge(df_home, df_municipality_types, on=\"municipality_id\")\n",
    "df_home = df_home[[\"person_id\", \"agglo_type\"]]\n",
    "df_home[\"person_id\"] = df_home[\"person_id\"].astype(np.int64)\n",
    "df_home[\"agglo_type\"] = df_home[\"agglo_type\"].astype(int)\n",
    "df_home = df_home.rename({\"person_id\": \"agentId\"}, axis=1)\n",
    "print(df_home.head(3))\n",
    "\n",
    "# merge spatial info\n",
    "print(\"Merging home location info onto MATSim trips...\")\n",
    "features = pd.merge(features, df_home, on=\"agentId\", how='left')\n",
    "print(features.head(3))\n",
    "print(\"Features - number of agents\", len(features[\"mzPersonId\"]), len(features[\"mzPersonId\"].unique()))"
   ]
  },
  {
   "cell_type": "code",
   "execution_count": 10,
   "metadata": {},
   "outputs": [
    {
     "name": "stdout",
     "output_type": "stream",
     "text": [
      "[11000 20000]\n"
     ]
    }
   ],
   "source": [
    "# ## Meaningful clustering\n",
    "#\n",
    "# Clustering based on meaningful boundaries.\n",
    "#\n",
    "# First define annual car distances.\n",
    "\n",
    "year_km_thresholds = np.array([11000, 20000])\n",
    "print(year_km_thresholds)\n",
    "\n",
    "# Now, just generate one label per combination and compute labels\n",
    "\n",
    "def find_distance_label(t, thresholds, unit):\n",
    "    if t == len(thresholds):\n",
    "        return ''.join((\"> \", str(thresholds[t - 1]), unit))\n",
    "    if t == 0:\n",
    "        return ''.join((\"[0 , \", str(thresholds[t]), unit, \"]\"))\n",
    "    return ''.join((\"[\", str(thresholds[t - 1]), \" , \", str(thresholds[t]), unit, \"]\"))\n",
    "\n",
    "\n",
    "def find_income_label(v):\n",
    "    if v <= 5:\n",
    "        return '<=10,000CHF'\n",
    "    else:\n",
    "        return '>10,000CHF'\n",
    "\n",
    "\n",
    "def find_agglo_label(v):\n",
    "    if v in [1, 2, 3, 4]:\n",
    "        return 'urban'\n",
    "    else:\n",
    "        return 'rural'\n",
    "\n",
    "def comp_label(annual_distance_km, income_levels, agglomeration_types):\n",
    "    m = map(lambda d, i, a: \"\".join(\n",
    "        (\"distance_\", find_distance_label(d, year_km_thresholds, \"km\"),\n",
    "         \"-income_\", find_income_label(i),\n",
    "         \"-agglo_\", find_agglo_label(a))),\n",
    "            annual_distance_km, income_levels, agglomeration_types)\n",
    "    return np.array(list(m))"
   ]
  },
  {
   "cell_type": "code",
   "execution_count": 11,
   "metadata": {},
   "outputs": [
    {
     "name": "stdout",
     "output_type": "stream",
     "text": [
      "   agentId  age sex  mzHeadId  mzPersonId  statpopHouseholdId  \\\n",
      "0  1000207   44   m    240866      340535     201202300013092   \n",
      "1  1000795   44   f    390494      312001     201202300043306   \n",
      "2  1000799   40   m    390494      110059     201202300043306   \n",
      "3   100650   64   m    335351      134287     201200520001351   \n",
      "4  1010617   48   m    349375      189515     201202300033054   \n",
      "\n",
      "   statpopPersonId  longest_stop_s  longest_stop_9_16_s  longest_trip_m  ...  \\\n",
      "0  201240011153461         20692.0              -8893.0    27127.377542  ...   \n",
      "1  201240010775095         46858.0              13021.0    12063.646037  ...   \n",
      "2  201240015752790         37934.0              24603.0     4808.971777  ...   \n",
      "3  201240011578715         77390.0              24234.0    10424.312816  ...   \n",
      "4  201240011615951         31663.0              13457.0    27937.432478  ...   \n",
      "\n",
      "   driven_s_[82800.0;86400.0]  distance_m_[82800.0;86400.0]  year_km  income  \\\n",
      "0                      3600.0                     13.099161  20000.0       5   \n",
      "1                         0.0                      0.000000  11000.0       5   \n",
      "2                         0.0                      0.000000   9000.0       9   \n",
      "3                         0.0                      0.000000  11000.0       4   \n",
      "4                       452.0                      0.000000  40000.0       5   \n",
      "\n",
      "   agglo_type  year_km_class      year_km_label  income_label  agglo_label  \\\n",
      "0           3              2          > 20000km   <=10,000CHF        urban   \n",
      "1           3              1  [11000 , 20000km]   <=10,000CHF        urban   \n",
      "2           3              0      [0 , 11000km]    >10,000CHF        urban   \n",
      "3           1              1  [11000 , 20000km]   <=10,000CHF        urban   \n",
      "4           3              2          > 20000km   <=10,000CHF        urban   \n",
      "\n",
      "                                               label  \n",
      "0  distance_> 20000km-income_<=10,000CHF-agglo_urban  \n",
      "1  distance_[11000 , 20000km]-income_<=10,000CHF-...  \n",
      "2  distance_[0 , 11000km]-income_>10,000CHF-agglo...  \n",
      "3  distance_[11000 , 20000km]-income_<=10,000CHF-...  \n",
      "4  distance_> 20000km-income_<=10,000CHF-agglo_urban  \n",
      "\n",
      "[5 rows x 68 columns]\n",
      "income_label      <=10,000CHF       >10,000CHF      \n",
      "agglo_label             rural urban      rural urban\n",
      "year_km_label                                       \n",
      "> 20000km                 158   226         94   193\n",
      "[0 , 11000km]             436   718        121   315\n",
      "[11000 , 20000km]         220   357        111   187\n"
     ]
    }
   ],
   "source": [
    "pred_meaning = (features.assign(year_km_class=list(map(lambda x: bisect(year_km_thresholds, x), features.year_km)))\n",
    "                .assign(year_km_label=lambda x: list(map(lambda t: find_distance_label(t, year_km_thresholds, \"km\"), x.year_km_class)),\n",
    "                        income_label=lambda x: list(map(lambda t: find_income_label(t), x.income)),\n",
    "                        agglo_label=lambda x: list(map(lambda t: find_agglo_label(t), x.agglo_type)))\n",
    "                .assign(label=lambda x: comp_label(x.year_km_class, x.income, x.agglo_type)))\n",
    "print(pred_meaning.head())\n",
    "\n",
    "crosstab_clusters = pd.crosstab(pred_meaning.year_km_label, [pred_meaning.income_label, pred_meaning.agglo_label])\n",
    "print(crosstab_clusters)"
   ]
  },
  {
   "cell_type": "code",
   "execution_count": 31,
   "metadata": {},
   "outputs": [
    {
     "name": "stdout",
     "output_type": "stream",
     "text": [
      "['agentId', 'age', 'sex', 'mzHeadId', 'mzPersonId', 'statpopHouseholdId', 'statpopPersonId', 'longest_stop_s', 'longest_stop_9_16_s', 'longest_trip_m', 'total_stop_s', 'total_trip_m', 'driven_s_[0.0;3600.0]', 'distance_m_[0.0;3600.0]', 'driven_s_[3600.0;7200.0]', 'distance_m_[3600.0;7200.0]', 'driven_s_[7200.0;10800.0]', 'distance_m_[7200.0;10800.0]', 'driven_s_[10800.0;14400.0]', 'distance_m_[10800.0;14400.0]', 'driven_s_[14400.0;18000.0]', 'distance_m_[14400.0;18000.0]', 'driven_s_[18000.0;21600.0]', 'distance_m_[18000.0;21600.0]', 'driven_s_[21600.0;25200.0]', 'distance_m_[21600.0;25200.0]', 'driven_s_[25200.0;28800.0]', 'distance_m_[25200.0;28800.0]', 'driven_s_[28800.0;32400.0]', 'distance_m_[28800.0;32400.0]', 'driven_s_[32400.0;36000.0]', 'distance_m_[32400.0;36000.0]', 'driven_s_[36000.0;39600.0]', 'distance_m_[36000.0;39600.0]', 'driven_s_[39600.0;43200.0]', 'distance_m_[39600.0;43200.0]', 'driven_s_[43200.0;46800.0]', 'distance_m_[43200.0;46800.0]', 'driven_s_[46800.0;50400.0]', 'distance_m_[46800.0;50400.0]', 'driven_s_[50400.0;54000.0]', 'distance_m_[50400.0;54000.0]', 'driven_s_[54000.0;57600.0]', 'distance_m_[54000.0;57600.0]', 'driven_s_[57600.0;61200.0]', 'distance_m_[57600.0;61200.0]', 'driven_s_[61200.0;64800.0]', 'distance_m_[61200.0;64800.0]', 'driven_s_[64800.0;68400.0]', 'distance_m_[64800.0;68400.0]', 'driven_s_[68400.0;72000.0]', 'distance_m_[68400.0;72000.0]', 'driven_s_[72000.0;75600.0]', 'distance_m_[72000.0;75600.0]', 'driven_s_[75600.0;79200.0]', 'distance_m_[75600.0;79200.0]', 'driven_s_[79200.0;82800.0]', 'distance_m_[79200.0;82800.0]', 'driven_s_[82800.0;86400.0]', 'distance_m_[82800.0;86400.0]', 'year_km', 'income', 'agglo_type', 'year_km_class', 'year_km_label', 'income_label', 'agglo_label', 'label']\n",
      "['driven_s_[0.0;3600.0]', 'driven_s_[3600.0;7200.0]', 'driven_s_[7200.0;10800.0]', 'driven_s_[10800.0;14400.0]', 'driven_s_[14400.0;18000.0]', 'driven_s_[18000.0;21600.0]', 'driven_s_[21600.0;25200.0]', 'driven_s_[25200.0;28800.0]', 'driven_s_[28800.0;32400.0]', 'driven_s_[32400.0;36000.0]', 'driven_s_[36000.0;39600.0]', 'driven_s_[39600.0;43200.0]', 'driven_s_[43200.0;46800.0]', 'driven_s_[46800.0;50400.0]', 'driven_s_[50400.0;54000.0]', 'driven_s_[54000.0;57600.0]', 'driven_s_[57600.0;61200.0]', 'driven_s_[61200.0;64800.0]', 'driven_s_[64800.0;68400.0]', 'driven_s_[68400.0;72000.0]', 'driven_s_[72000.0;75600.0]', 'driven_s_[75600.0;79200.0]', 'driven_s_[79200.0;82800.0]', 'driven_s_[82800.0;86400.0]']\n",
      "['distance_m_[0.0;3600.0]', 'distance_m_[3600.0;7200.0]', 'distance_m_[7200.0;10800.0]', 'distance_m_[10800.0;14400.0]', 'distance_m_[14400.0;18000.0]', 'distance_m_[18000.0;21600.0]', 'distance_m_[21600.0;25200.0]', 'distance_m_[25200.0;28800.0]', 'distance_m_[28800.0;32400.0]', 'distance_m_[32400.0;36000.0]', 'distance_m_[36000.0;39600.0]', 'distance_m_[39600.0;43200.0]', 'distance_m_[43200.0;46800.0]', 'distance_m_[46800.0;50400.0]', 'distance_m_[50400.0;54000.0]', 'distance_m_[54000.0;57600.0]', 'distance_m_[57600.0;61200.0]', 'distance_m_[61200.0;64800.0]', 'distance_m_[64800.0;68400.0]', 'distance_m_[68400.0;72000.0]', 'distance_m_[72000.0;75600.0]', 'distance_m_[75600.0;79200.0]', 'distance_m_[79200.0;82800.0]', 'distance_m_[82800.0;86400.0]']\n"
     ]
    }
   ],
   "source": [
    "# PSI wants to see how much the cars are driven during the day.\n",
    "# We should:\n",
    "# - visualize the number of cars driving per TOD in a faceted way\n",
    "# - export a table containing the number of driven cars per time bin per class\n",
    "#\n",
    "\n",
    "print(list(pred_meaning.columns))\n",
    "\n",
    "drive_columns = [v for v in pred_meaning.columns.values if v.startswith(\"driven_s\")]\n",
    "distance_columns = [v for v in pred_meaning.columns.values if v.startswith(\"distance_m\")]\n",
    "\n",
    "print(drive_columns)\n",
    "print(distance_columns)\n",
    "\n",
    "def decode_time(type):\n",
    "    def f(name):\n",
    "        interval = re.search(\"\\[(.*)\\]\", name).group(1).split(';')\n",
    "\n",
    "        low = float(interval[0])\n",
    "        high = float(interval[1])\n",
    "\n",
    "        if (type == 'middle'): return (low + high) / 2.0\n",
    "        if (type == 'low'): return low\n",
    "        if (type == 'high'): return high\n",
    "\n",
    "        raise NameError(type)\n",
    "\n",
    "    return f"
   ]
  },
  {
   "cell_type": "code",
   "execution_count": 32,
   "metadata": {},
   "outputs": [
    {
     "name": "stderr",
     "output_type": "stream",
     "text": [
      "/home/tchervec/.local/lib/python3.6/site-packages/numpy/lib/function_base.py:393: RuntimeWarning: Mean of empty slice.\n",
      "  avg = a.mean(axis)\n",
      "/home/tchervec/.local/lib/python3.6/site-packages/numpy/core/_methods.py:161: RuntimeWarning: invalid value encountered in double_scalars\n",
      "  ret = ret.dtype.type(ret / rcount)\n"
     ]
    },
    {
     "name": "stdout",
     "output_type": "stream",
     "text": [
      "   year_km_label income_label agglo_label    n  driven_time_s  \\\n",
      "0      > 20000km  <=10,000CHF       rural  158            0.0   \n",
      "1      > 20000km  <=10,000CHF       urban  226            0.0   \n",
      "2      > 20000km   >10,000CHF       rural   94            0.0   \n",
      "3      > 20000km   >10,000CHF       urban  193            0.0   \n",
      "4  [0 , 11000km]  <=10,000CHF       rural  436            0.0   \n",
      "\n",
      "   interval_start_s  interval_end_s  time_of_day_s  time_of_day_h  \\\n",
      "0               0.0          3600.0         1800.0            0.5   \n",
      "1               0.0          3600.0         1800.0            0.5   \n",
      "2               0.0          3600.0         1800.0            0.5   \n",
      "3               0.0          3600.0         1800.0            0.5   \n",
      "4               0.0          3600.0         1800.0            0.5   \n",
      "\n",
      "   driven_time_min  \n",
      "0              0.0  \n",
      "1              0.0  \n",
      "2              0.0  \n",
      "3              0.0  \n",
      "4              0.0  \n"
     ]
    }
   ],
   "source": [
    "# group by labels, average and count values\n",
    "# melt according to driven time and distance\n",
    "\n",
    "drivetime_per_group = pred_meaning.groupby([\"year_km_label\", \"income_label\", \"agglo_label\"])[drive_columns].aggregate(np.average)\n",
    "drivetime_per_group['n'] = pred_meaning.groupby([\"year_km_label\", \"income_label\", \"agglo_label\"])[\"agglo_label\"].agg(np.size)\n",
    "drivetime_per_group = drivetime_per_group.reset_index()\n",
    "drivetime_per_group = pd.melt(drivetime_per_group,\n",
    "                              id_vars=['year_km_label', 'income_label', 'agglo_label', 'n'], value_vars=drive_columns,\n",
    "                              var_name=\"interval_s\", value_name=\"driven_time_s\"\n",
    "                              )\n",
    "drivetime_per_group['interval_start_s'] = drivetime_per_group[\"interval_s\"].apply(decode_time('low'))\n",
    "drivetime_per_group['interval_end_s'] = drivetime_per_group[\"interval_s\"].apply(decode_time('high'))\n",
    "drivetime_per_group['time_of_day_s'] = drivetime_per_group[\"interval_s\"].apply(decode_time('middle'))\n",
    "drivetime_per_group['time_of_day_h'] = drivetime_per_group['time_of_day_s'] / 3600.0\n",
    "drivetime_per_group['driven_time_min'] = drivetime_per_group['driven_time_s'] / 60.0\n",
    "drivetime_per_group = drivetime_per_group.drop(columns=['interval_s'])\n",
    "drivetime_per_group = drivetime_per_group.sort_values(['time_of_day_s', 'year_km_label', 'income_label', 'agglo_label'])\n",
    "\n",
    "print(drivetime_per_group.head(5))"
   ]
  },
  {
   "cell_type": "code",
   "execution_count": 37,
   "metadata": {},
   "outputs": [
    {
     "name": "stdout",
     "output_type": "stream",
     "text": [
      "         year_km_label income_label agglo_label    n       year_km  \\\n",
      "0            > 20000km  <=10,000CHF       rural  158  27592.335443   \n",
      "1            > 20000km  <=10,000CHF       urban  226  26974.172566   \n",
      "2            > 20000km   >10,000CHF       rural   94  27529.457447   \n",
      "3            > 20000km   >10,000CHF       urban  193  27137.341969   \n",
      "4        [0 , 11000km]  <=10,000CHF       rural  436   6158.252294   \n",
      "..                 ...          ...         ...  ...           ...   \n",
      "283      [0 , 11000km]   >10,000CHF       urban  315   6815.431746   \n",
      "284  [11000 , 20000km]  <=10,000CHF       rural  220  14124.809091   \n",
      "285  [11000 , 20000km]  <=10,000CHF       urban  357  13989.400560   \n",
      "286  [11000 , 20000km]   >10,000CHF       rural  111  14555.963964   \n",
      "287  [11000 , 20000km]   >10,000CHF       urban  187  14321.032086   \n",
      "\n",
      "      distance_m  time_of_day_s  distance_km  \n",
      "0       0.000000         1800.0     0.000000  \n",
      "1       0.000000         1800.0     0.000000  \n",
      "2       0.000000         1800.0     0.000000  \n",
      "3       0.000000         1800.0     0.000000  \n",
      "4       0.000000         1800.0     0.000000  \n",
      "..           ...            ...          ...  \n",
      "283  1628.089929        84600.0     1.628090  \n",
      "284  1133.434723        84600.0     1.133435  \n",
      "285  1188.485145        84600.0     1.188485  \n",
      "286  2907.063598        84600.0     2.907064  \n",
      "287  1686.200376        84600.0     1.686200  \n",
      "\n",
      "[288 rows x 8 columns]\n"
     ]
    },
    {
     "name": "stderr",
     "output_type": "stream",
     "text": [
      "/home/tchervec/.local/lib/python3.6/site-packages/numpy/lib/function_base.py:393: RuntimeWarning: Mean of empty slice.\n",
      "  avg = a.mean(axis)\n",
      "/home/tchervec/.local/lib/python3.6/site-packages/numpy/core/_methods.py:161: RuntimeWarning: invalid value encountered in double_scalars\n",
      "  ret = ret.dtype.type(ret / rcount)\n"
     ]
    }
   ],
   "source": [
    "# distance per group\n",
    "\n",
    "filter_list = distance_columns.copy()\n",
    "filter_list.append(\"year_km\")\n",
    "\n",
    "distance_per_group = pred_meaning.groupby([\"year_km_label\", \"income_label\", \"agglo_label\"])[filter_list].aggregate(np.average)\n",
    "distance_per_group['n'] = pred_meaning.groupby([\"year_km_label\", \"income_label\", \"agglo_label\"])[\"agglo_label\"].agg(np.size)\n",
    "distance_per_group = distance_per_group.reset_index()\n",
    "distance_per_group = pd.melt(distance_per_group,\n",
    "                             id_vars=['year_km_label', 'income_label', 'agglo_label', 'n', 'year_km'], value_vars=distance_columns,\n",
    "                             var_name=\"interval_s\", value_name=\"distance_m\"\n",
    "                             )\n",
    "distance_per_group['time_of_day_s'] = distance_per_group[\"interval_s\"].apply(decode_time('middle'))\n",
    "distance_per_group['distance_km'] = distance_per_group['distance_m'] / 1000.0\n",
    "distance_per_group = distance_per_group.drop(columns=['interval_s'])\n",
    "distance_per_group = distance_per_group.sort_values(['time_of_day_s', 'year_km_label', 'income_label', 'agglo_label'])\n",
    "\n",
    "\n",
    "print(distance_per_group)"
   ]
  },
  {
   "cell_type": "code",
   "execution_count": 38,
   "metadata": {},
   "outputs": [
    {
     "name": "stdout",
     "output_type": "stream",
     "text": [
      "        year_km_label income_label agglo_label    n  driven_time_s  \\\n",
      "0           > 20000km  <=10,000CHF       rural  158       0.000000   \n",
      "1           > 20000km  <=10,000CHF       urban  226       0.000000   \n",
      "2           > 20000km   >10,000CHF       rural   94       0.000000   \n",
      "3           > 20000km   >10,000CHF       urban  193       0.000000   \n",
      "4       [0 , 11000km]  <=10,000CHF       rural  436       0.000000   \n",
      "5       [0 , 11000km]  <=10,000CHF       urban  718       0.000000   \n",
      "6       [0 , 11000km]   >10,000CHF       rural  121       0.000000   \n",
      "7       [0 , 11000km]   >10,000CHF       urban  315       0.000000   \n",
      "8   [11000 , 20000km]  <=10,000CHF       rural  220       0.000000   \n",
      "9   [11000 , 20000km]  <=10,000CHF       urban  357       0.000000   \n",
      "10  [11000 , 20000km]   >10,000CHF       rural  111       0.000000   \n",
      "11  [11000 , 20000km]   >10,000CHF       urban  187       0.000000   \n",
      "12          > 20000km  <=10,000CHF       rural  158       0.000000   \n",
      "13          > 20000km  <=10,000CHF       urban  226       0.000000   \n",
      "14          > 20000km   >10,000CHF       rural   94       0.000000   \n",
      "15          > 20000km   >10,000CHF       urban  193       0.000000   \n",
      "16      [0 , 11000km]  <=10,000CHF       rural  436       0.000000   \n",
      "17      [0 , 11000km]  <=10,000CHF       urban  718       0.000000   \n",
      "18      [0 , 11000km]   >10,000CHF       rural  121       0.000000   \n",
      "19      [0 , 11000km]   >10,000CHF       urban  315       0.000000   \n",
      "20  [11000 , 20000km]  <=10,000CHF       rural  220       0.000000   \n",
      "21  [11000 , 20000km]  <=10,000CHF       urban  357       0.000000   \n",
      "22  [11000 , 20000km]   >10,000CHF       rural  111       0.000000   \n",
      "23  [11000 , 20000km]   >10,000CHF       urban  187       0.000000   \n",
      "24          > 20000km  <=10,000CHF       rural  158       7.683544   \n",
      "25          > 20000km  <=10,000CHF       urban  226       0.000000   \n",
      "26          > 20000km   >10,000CHF       rural   94       0.000000   \n",
      "27          > 20000km   >10,000CHF       urban  193       7.663212   \n",
      "28      [0 , 11000km]  <=10,000CHF       rural  436       0.000000   \n",
      "29      [0 , 11000km]  <=10,000CHF       urban  718       0.000000   \n",
      "\n",
      "    interval_start_s  interval_end_s  time_of_day_s  time_of_day_h  \\\n",
      "0                0.0          3600.0         1800.0            0.5   \n",
      "1                0.0          3600.0         1800.0            0.5   \n",
      "2                0.0          3600.0         1800.0            0.5   \n",
      "3                0.0          3600.0         1800.0            0.5   \n",
      "4                0.0          3600.0         1800.0            0.5   \n",
      "5                0.0          3600.0         1800.0            0.5   \n",
      "6                0.0          3600.0         1800.0            0.5   \n",
      "7                0.0          3600.0         1800.0            0.5   \n",
      "8                0.0          3600.0         1800.0            0.5   \n",
      "9                0.0          3600.0         1800.0            0.5   \n",
      "10               0.0          3600.0         1800.0            0.5   \n",
      "11               0.0          3600.0         1800.0            0.5   \n",
      "12            3600.0          7200.0         5400.0            1.5   \n",
      "13            3600.0          7200.0         5400.0            1.5   \n",
      "14            3600.0          7200.0         5400.0            1.5   \n",
      "15            3600.0          7200.0         5400.0            1.5   \n",
      "16            3600.0          7200.0         5400.0            1.5   \n",
      "17            3600.0          7200.0         5400.0            1.5   \n",
      "18            3600.0          7200.0         5400.0            1.5   \n",
      "19            3600.0          7200.0         5400.0            1.5   \n",
      "20            3600.0          7200.0         5400.0            1.5   \n",
      "21            3600.0          7200.0         5400.0            1.5   \n",
      "22            3600.0          7200.0         5400.0            1.5   \n",
      "23            3600.0          7200.0         5400.0            1.5   \n",
      "24            7200.0         10800.0         9000.0            2.5   \n",
      "25            7200.0         10800.0         9000.0            2.5   \n",
      "26            7200.0         10800.0         9000.0            2.5   \n",
      "27            7200.0         10800.0         9000.0            2.5   \n",
      "28            7200.0         10800.0         9000.0            2.5   \n",
      "29            7200.0         10800.0         9000.0            2.5   \n",
      "\n",
      "    driven_time_min       year_km  distance_m  distance_km  \n",
      "0          0.000000  27592.335443    0.000000     0.000000  \n",
      "1          0.000000  26974.172566    0.000000     0.000000  \n",
      "2          0.000000  27529.457447    0.000000     0.000000  \n",
      "3          0.000000  27137.341969    0.000000     0.000000  \n",
      "4          0.000000   6158.252294    0.000000     0.000000  \n",
      "5          0.000000   6275.694986    0.000000     0.000000  \n",
      "6          0.000000   6731.719008    0.000000     0.000000  \n",
      "7          0.000000   6815.431746    0.000000     0.000000  \n",
      "8          0.000000  14124.809091    0.000000     0.000000  \n",
      "9          0.000000  13989.400560    0.000000     0.000000  \n",
      "10         0.000000  14555.963964    0.000000     0.000000  \n",
      "11         0.000000  14321.032086    0.000000     0.000000  \n",
      "12         0.000000  27592.335443    0.000000     0.000000  \n",
      "13         0.000000  26974.172566    0.000000     0.000000  \n",
      "14         0.000000  27529.457447    0.000000     0.000000  \n",
      "15         0.000000  27137.341969    0.000000     0.000000  \n",
      "16         0.000000   6158.252294    0.000000     0.000000  \n",
      "17         0.000000   6275.694986    0.000000     0.000000  \n",
      "18         0.000000   6731.719008    0.000000     0.000000  \n",
      "19         0.000000   6815.431746    0.000000     0.000000  \n",
      "20         0.000000  14124.809091    0.000000     0.000000  \n",
      "21         0.000000  13989.400560    0.000000     0.000000  \n",
      "22         0.000000  14555.963964    0.000000     0.000000  \n",
      "23         0.000000  14321.032086    0.000000     0.000000  \n",
      "24         0.128059  27592.335443  145.018036     0.145018  \n",
      "25         0.000000  26974.172566    0.719287     0.000719  \n",
      "26         0.000000  27529.457447    0.000000     0.000000  \n",
      "27         0.127720  27137.341969  145.001520     0.145002  \n",
      "28         0.000000   6158.252294    0.000000     0.000000  \n",
      "29         0.000000   6275.694986    0.000000     0.000000  \n"
     ]
    }
   ],
   "source": [
    "# merge\n",
    "results_per_group = pd.merge(drivetime_per_group, distance_per_group, on=['year_km_label', 'income_label', 'agglo_label', 'n', 'time_of_day_s'])\n",
    "assert len(results_per_group) == len(distance_per_group)\n",
    "results_per_group = results_per_group.sort_values(['time_of_day_s', 'year_km_label', 'income_label', 'agglo_label'])\n",
    "print(results_per_group.head(30))"
   ]
  },
  {
   "cell_type": "code",
   "execution_count": 41,
   "metadata": {},
   "outputs": [
    {
     "name": "stdout",
     "output_type": "stream",
     "text": [
      "Generating plots...\n",
      "Ordering annual km traveled...\n",
      "['[0 , 11000km]', '[11000 , 20000km]', '> 20000km']\n",
      "Ordering incomes + agglo types...\n",
      "['<=10,000CHF\\nrural', '<=10,000CHF\\nurban', '>10,000CHF\\nrural', '>10,000CHF\\nurban']\n",
      "Generating figures...\n"
     ]
    },
    {
     "data": {
      "text/plain": [
       "<seaborn.axisgrid.FacetGrid at 0x7feb178a0e48>"
      ]
     },
     "execution_count": 41,
     "metadata": {},
     "output_type": "execute_result"
    },
    {
     "data": {
      "text/plain": [
       "<Figure size 720x480 with 0 Axes>"
      ]
     },
     "metadata": {},
     "output_type": "display_data"
    },
    {
     "data": {
      "image/png": "[encoded data removed]",
      "text/plain": [
       "<Figure size 648x864 with 12 Axes>"
      ]
     },
     "metadata": {
      "needs_background": "light"
     },
     "output_type": "display_data"
    }
   ],
   "source": [
    "# To get nice plots: order categories in a meaningful way\n",
    "print(\"Generating plots...\")\n",
    "\n",
    "\n",
    "def distance_range(r):\n",
    "    if r.startswith(\">\"): return float(\"inf\")\n",
    "\n",
    "    low = re.search(\"\\[(.*),\", r).group(1)\n",
    "    return float(low)\n",
    "\n",
    "def income_agglo_range(r):\n",
    "    code = \"\"\n",
    "    if r.startswith(\">\") : code += \"1\"\n",
    "    else : code += \"0\"\n",
    "\n",
    "    if \"urban\" in r : code += \"1\"\n",
    "    else : code += \"0\"\n",
    "\n",
    "    return float(code)\n",
    "\n",
    "# looks strange, but set cannot get a pandas series in constructor, while list can...\n",
    "print(\"Ordering annual km traveled...\")\n",
    "distance_ordered = list(set(list(results_per_group.year_km_label)))\n",
    "distance_ordered.sort(key=distance_range)\n",
    "print(distance_ordered)\n",
    "\n",
    "print(\"Ordering incomes + agglo types...\")\n",
    "results_per_group['income_agglo_label'] = results_per_group['income_label'].str.cat(results_per_group['agglo_label'], sep='\\n')\n",
    "income_agglo_ordered = list(set(list(results_per_group.income_agglo_label)))\n",
    "income_agglo_ordered.sort(key=income_agglo_range)\n",
    "print(income_agglo_ordered)\n",
    "\n",
    "\n",
    "# Cannot get bloody Seaborn to understand that my \"hue\" variable should be continuous...\n",
    "# Dirty hack to get this right\n",
    "print(\"Generating figures...\")\n",
    "\n",
    "def create_palette(ns):\n",
    "    my_palette = {}\n",
    "    m = np.log(max(ns) + 2)\n",
    "    all_blues = sns.color_palette(\"Blues\", int(m) + 1)\n",
    "\n",
    "    for n in ns:\n",
    "        my_palette[n] = all_blues[int(np.log(n + 1))]\n",
    "\n",
    "    return my_palette\n",
    "\n",
    "\n",
    "def annotate(n, **kwargs):\n",
    "    return plt.annotate(\"n=\" + str(n.iloc[0]), xy=(0, 1))\n",
    "\n",
    "\n",
    "plt.figure(dpi=120)\n",
    "grid = sns.FacetGrid(results_per_group,\n",
    "                     row=\"income_agglo_label\", col=\"year_km_label\", hue=\"n\",\n",
    "                     row_order=income_agglo_ordered, col_order=distance_ordered,\n",
    "                     palette=create_palette(results_per_group.n),\n",
    "                     margin_titles=True)\n",
    "grid.map(annotate, \"n\")\n",
    "grid.map(plt.plot, \"time_of_day_h\", \"driven_time_min\", color=\"b\")\n",
    "grid.map(plt.plot, \"time_of_day_h\", \"distance_km\", color=\"r\")"
   ]
  },
  {
   "cell_type": "code",
   "execution_count": null,
   "metadata": {},
   "outputs": [],
   "source": []
  }
 ],
 "metadata": {
  "kernelspec": {
   "display_name": "Python 3",
   "language": "python",
   "name": "python3"
  },
  "language_info": {
   "codemirror_mode": {
    "name": "ipython",
    "version": 3
   },
   "file_extension": ".py",
   "mimetype": "text/x-python",
   "name": "python",
   "nbconvert_exporter": "python",
   "pygments_lexer": "ipython3",
   "version": "3.6.9"
  }
 },
 "nbformat": 4,
 "nbformat_minor": 4
}
