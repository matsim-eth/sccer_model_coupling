{
 "cells": [
  {
   "cell_type": "code",
   "execution_count": 1,
   "metadata": {},
   "outputs": [],
   "source": [
    "import pandas as pd\n",
    "import numpy as np\n",
    "import geopandas as gpd\n",
    "from tqdm import tqdm\n",
    "from sklearn.neighbors import KDTree"
   ]
  },
  {
   "cell_type": "code",
   "execution_count": 2,
   "metadata": {},
   "outputs": [],
   "source": [
    "# path to data\n",
    "raw_data_path = \"/home/ctchervenkov/Documents/data/ARE/are_npvm_referenz_2040_data/\"\n",
    "output_path = \"/home/ctchervenkov/Documents/data/ARE/\"\n",
    "shapefile = \"04-DTV_2040_MIV_Referenz__KGM_1250_reduziert/DTV_2040_MIV_Referenz__KGM_1250_reduziert_link.SHP\";\n",
    "public_transport_shapefile = \"05-DTV_2040_OEV_Referenz_KGM_1250_reduziert/DTV_2040_OEV_Referenz__KGM_1250_reduziert_link.SHP\";"
   ]
  },
  {
   "cell_type": "code",
   "execution_count": 3,
   "metadata": {},
   "outputs": [],
   "source": [
    "# read private transport data\n",
    "df_raw = gpd.read_file(\n",
    "            \"%s/%s\" % (raw_data_path, shapefile),\n",
    "            encoding = \"latin1\"\n",
    "        ).to_crs({'init': 'EPSG:2056'})"
   ]
  },
  {
   "cell_type": "code",
   "execution_count": 4,
   "metadata": {},
   "outputs": [],
   "source": [
    "# list of fields and renames\n",
    "fields_direction_A = ['NO', 'FROMNODENO', 'TONODENO', 'TYPENO', 'TSYSSET', 'LENGTH', \n",
    "                          'NUMLANES', 'CAPPRT', 'V0PRT', 'VOLVEHPR~1', 'VOLVEH_T~2', 'VOLVEH_T~3',\n",
    "                          'VOLVEH_T~4', 'VOLVEH_T~5']\n",
    "\n",
    "fields_direction_B = ['R_NO', 'R_FROMNO~6', 'R_TONODENO',\n",
    "                          'R_TYPENO', 'R_TSYSSET', 'R_LENGTH', 'R_NUMLANES', 'R_CAPPRT',\n",
    "                          'R_V0PRT', 'R_VOLVEH~7', 'R_VOLVEH~8', 'R_VOLVEH~9', 'R_VOLVE~10',\n",
    "                          'R_VOLVE~11']\n",
    "\n",
    "renames = {\n",
    "    'NO' : 'link_id', \n",
    "    'FROMNODENO' : 'from_node', \n",
    "    'TONODENO' : 'to_node', \n",
    "    'TYPENO' : \"link_type\", \n",
    "    'TSYSSET' : \"transit_system\", \n",
    "    'LENGTH' : \"link_length_km\",\n",
    "    'NUMLANES' : \"number_lanes\", \n",
    "    'CAPPRT' : \"model_capacity\", \n",
    "    'V0PRT' : \"model_speed_km/h\", \n",
    "    'VOLVEHPR~1' : 'total_load_veh/day', \n",
    "    'VOLVEH_T~2' : 'delivery_vehicles_veh/day', \n",
    "    'VOLVEH_T~3' : 'trucks_veh/day',\n",
    "    'VOLVEH_T~4' : 'semi_trailers_veh/day', \n",
    "    'VOLVEH_T~5' : 'passenger_vehicles_veh/day', \n",
    "    'R_NO' : 'link_number',  \n",
    "    'R_FROMNO~6' : 'from_node',\n",
    "    'R_TONODENO' : 'to_node',\n",
    "    'R_TYPENO' : \"link_type\", \n",
    "    'R_TSYSSET' : \"transit_system\", \n",
    "    'R_LENGTH' : \"link_length_km\", \n",
    "    'R_NUMLANES' : \"number_lanes\", \n",
    "    'R_CAPPRT' : \"model_capacity\",\n",
    "    'R_V0PRT' : \"model_speed_km/h\", \n",
    "    'R_VOLVEH~7' : 'total_load_veh/day', \n",
    "    'R_VOLVEH~8' : 'delivery_vehicles_veh/day', \n",
    "    'R_VOLVEH~9' : 'trucks_veh/day', \n",
    "    'R_VOLVE~10' : 'semi_trailers_veh/day',\n",
    "    'R_VOLVE~11' : 'passenger_vehicles_veh/day', \n",
    "    'geometry' : 'geometry',\n",
    "}"
   ]
  },
  {
   "cell_type": "code",
   "execution_count": 5,
   "metadata": {},
   "outputs": [],
   "source": [
    "# separate by direction\n",
    "df_raw_direction_A = df_raw[fields_direction_A].rename(index=str, columns=renames)\n",
    "df_raw_direction_B = df_raw[fields_direction_B].rename(index=str, columns=renames)"
   ]
  },
  {
   "cell_type": "code",
   "execution_count": 6,
   "metadata": {},
   "outputs": [],
   "source": [
    "# clean data\n",
    "df_raw_direction_A.loc[:,\"direction\"] = 0\n",
    "df_raw_direction_B.loc[:,\"direction\"] = 1\n",
    "df_raw_direction_A[\"link_length_km\"] = df_raw_direction_A[\"link_length_km\"].str.split(\"km\").str.get(0).astype(float)\n",
    "df_raw_direction_B[\"link_length_km\"] = df_raw_direction_B[\"link_length_km\"].str.split(\"km\").str.get(0).astype(float)\n",
    "df_raw_direction_A[\"model_speed_km/h\"] = df_raw_direction_A[\"model_speed_km/h\"].str.split(\"km/h\").str.get(0).astype(int)\n",
    "df_raw_direction_B[\"model_speed_km/h\"] = df_raw_direction_B[\"model_speed_km/h\"].str.split(\"km/h\").str.get(0).astype(int)"
   ]
  },
  {
   "cell_type": "code",
   "execution_count": 7,
   "metadata": {},
   "outputs": [],
   "source": [
    "# merge\n",
    "df = pd.concat([df_raw_direction_A, df_raw_direction_B])"
   ]
  },
  {
   "cell_type": "code",
   "execution_count": 8,
   "metadata": {},
   "outputs": [
    {
     "name": "stderr",
     "output_type": "stream",
     "text": [
      "/home/ctchervenkov/.local/lib/python3.5/site-packages/pandas/core/computation/check.py:17: UserWarning: The installed version of numexpr 2.4.3 is not supported in pandas and will be not be used\n",
      "The minimum supported version is 2.4.6\n",
      "\n",
      "  ver=ver, min_ver=_MIN_NUMEXPR_VERSION), UserWarning)\n"
     ]
    }
   ],
   "source": [
    "# compute travelled km\n",
    "df.loc[:, \"total_load_veh_km/day\"] = df.loc[:, \"total_load_veh/day\"] * df.loc[:, \"link_length_km\"]\n",
    "df.loc[:, \"delivery_vehicles_veh_km/day\"] = df.loc[:, \"delivery_vehicles_veh/day\"] * df.loc[:, \"link_length_km\"] \n",
    "df.loc[:, \"trucks_veh_km/day\"] = df.loc[:, \"trucks_veh/day\"] * df.loc[:, \"link_length_km\"] \n",
    "df.loc[:, \"semi_trailers_veh_km/day\"] = df.loc[:, \"semi_trailers_veh/day\"] * df.loc[:, \"link_length_km\"] \n",
    "df.loc[:, \"passenger_vehicles_veh_km/day\"] = df.loc[:, \"passenger_vehicles_veh/day\"] * df.loc[:, \"link_length_km\"] "
   ]
  },
  {
   "cell_type": "code",
   "execution_count": 9,
   "metadata": {},
   "outputs": [],
   "source": [
    "df = df[[\"total_load_veh/day\", \"delivery_vehicles_veh/day\", \"trucks_veh/day\", \"semi_trailers_veh/day\", \"passenger_vehicles_veh/day\",\n",
    "         \"total_load_veh_km/day\", \"delivery_vehicles_veh_km/day\", \"trucks_veh_km/day\", \"semi_trailers_veh_km/day\", \"passenger_vehicles_veh_km/day\",\n",
    "         \"direction\"]].groupby(\"direction\").sum()"
   ]
  },
  {
   "cell_type": "code",
   "execution_count": 10,
   "metadata": {},
   "outputs": [],
   "source": [
    "df.to_csv(\"%s/%s\" % (output_path, \"miv_statistics.csv\"), sep=\";\")"
   ]
  },
  {
   "cell_type": "code",
   "execution_count": null,
   "metadata": {},
   "outputs": [],
   "source": []
  }
 ],
 "metadata": {
  "kernelspec": {
   "display_name": "Python 3",
   "language": "python",
   "name": "python3"
  },
  "language_info": {
   "codemirror_mode": {
    "name": "ipython",
    "version": 3
   },
   "file_extension": ".py",
   "mimetype": "text/x-python",
   "name": "python",
   "nbconvert_exporter": "python",
   "pygments_lexer": "ipython3",
   "version": "3.5.2"
  }
 },
 "nbformat": 4,
 "nbformat_minor": 2
}
